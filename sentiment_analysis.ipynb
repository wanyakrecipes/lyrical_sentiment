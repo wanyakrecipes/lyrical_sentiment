{
 "cells": [
  {
   "cell_type": "markdown",
   "metadata": {},
   "source": [
    "# Using text classification to examine lyric sentiment\n",
    "\n",
    "The great songs make us *feel*. Joy. Elation. Danger. Extreme feelings often occur in the same song (*soon* by mbv anyone?).\n",
    "\n",
    "The real power lies in the congurance between music and lyrics.\n",
    "\n",
    "For example, the opening lyric of *Blue* by Joni Mitchell is \"Blue\" accompanied by a minor chord. Minor chords evoke negative feelings (i.e. sadness). Thus the utterance of the word blue feels...really blue. Just imagine if it were played with a major chord instead? A negative word contrasted with chords that evoke positive feelings.\n",
    "\n",
    "<!--TBC: something about intervals here.-->\n",
    "\n",
    "To that end, I will evaluate the effectiveness of text classification methods of classifying lyrics as *positive*, *neutral* and *negative*. I will compare the effectiveness of a supervised learning approach (Naive Bayes) to a deep learning approaches (Zero-Shot classification, NLP Prompt using Chat GPT).\n",
    "\n",
    "For further information on the importance of intervals and emotions:\n",
    "\n",
    "* [Gravity Sound](https://gravitysound.studio/blogs/news/how-interval-music-theory-can-trick-your-brain)\n",
    "* [How Music Really Works](https://www.howmusicreallyworks.com/chapter-four-scales-intervals/intervals-emotional-power-music.html)\n"
   ]
  },
  {
   "cell_type": "code",
   "execution_count": 1,
   "metadata": {},
   "outputs": [],
   "source": [
    "#Import libraries and packages\n",
    "import pandas as pd\n",
    "import plotly.express as px\n",
    "import seaborn as sns\n",
    "import matplotlib.pyplot as plt\n",
    "import re\n",
    "import torch\n",
    "from transformers import pipeline"
   ]
  },
  {
   "cell_type": "code",
   "execution_count": null,
   "metadata": {},
   "outputs": [],
   "source": [
    "#Read data using chunks\n",
    "\n",
    "file_path = 'song_lyrics.csv'\n",
    "\n",
    "chunk_size = 100000\n",
    "\n",
    "chunks = []\n",
    "\n",
    "for chunk in pd.read_csv(file_path, chunksize=chunk_size):\n",
    "\n",
    "    chunks.append(chunk)\n",
    "\n",
    "# Concatenate all chunks into a single DataFrame if needed\n",
    "song_lyrics_full_df = pd.concat(chunks, ignore_index=True)"
   ]
  },
  {
   "cell_type": "markdown",
   "metadata": {},
   "source": [
    "### Data preprocessing\n",
    "\n",
    "In preparation for text classification, we will filter our data based on the findings from our EDA:\n",
    "\n",
    "* Keep tracks with English lyrics.\n",
    "* Remove artists which contain the word \"Genius\"\n",
    "* Remove tracks under the \"misc\" genre.\n",
    "* Keep songs since 1880, the dawn of popular music.\n",
    "* Remove songs after 2022, the year this dataset \"ends\".\n",
    "* Keep songs with at least 448 views (i.e. top 25% of tracks).\n",
    "\n",
    "We also need to clean the lyrics. This involves removing text between the square brackets, such as section markers, song credits, features, and apply standard cleaning processes. This will enable text classification to be more effective. We can use the lyrics to *Wish You Were Here* to show the impact of cleaning the lyrics.\n",
    "\n",
    "TODO: need to check the character length of the lyrics - are they longer than the max?\n",
    "\n",
    "TODO: remove songs with a low number of views? Do a histogram of views? We want to learn from well known songs.\n"
   ]
  },
  {
   "cell_type": "code",
   "execution_count": null,
   "metadata": {},
   "outputs": [],
   "source": [
    "#Data Preprocessing\n",
    "import re\n",
    "\n",
    "#Clean text\n",
    "def clean_lyrics(text):\n",
    "    \n",
    "    #Remove text between brackets\n",
    "    text = re.sub(r'\\[.*?\\]', '', text)\n",
    "    \n",
    "    # Remove newline and tab characters\n",
    "    text = re.sub(r'[\\n\\t]', ' ', text)\n",
    "    \n",
    "    # Remove special characters and digits (optional, depending on use case)\n",
    "    text = re.sub(r'[^A-Za-z\\s]', '', text)\n",
    "    \n",
    "    # Normalize whitespace\n",
    "    text = re.sub(r'\\s+', ' ', text).strip()\n",
    "    \n",
    "    # Convert to lowercase\n",
    "    text = text.lower()\n",
    "    \n",
    "    return text\n",
    "\n",
    "# Example usage of cleaning lyrics to wish you were here\n",
    "#wish_you_were_here_clean = clean_lyrics(wish_you_were_here_df.iloc[0,6])\n",
    "#display(wish_you_were_here_clean)\n"
   ]
  },
  {
   "cell_type": "code",
   "execution_count": null,
   "metadata": {},
   "outputs": [],
   "source": [
    "#Undertake data cleaning\n",
    "song_lyrics_clean_df = song_lyrics_full_df.copy()\n",
    "\n",
    "#Filter data for english lyrics\n",
    "song_lyrics_clean_df = song_lyrics_clean_df[(song_lyrics_clean_df['language'] == 'en')]\n",
    "\n",
    "#Filter data to remove artists containing \"Genius\"\n",
    "song_lyrics_clean_df  = song_lyrics_clean_df [~song_lyrics_clean_df ['artist'].str.contains('Genius', case=False, na=False)]\n",
    "\n",
    "#Filter for data between 1880 and 2022\n",
    "song_lyrics_clean_df = song_lyrics_clean_df[(song_lyrics_clean_df['year'] >= 1880) & (song_lyrics_clean_df['year'] <= 2022)]\n",
    "\n",
    "#Filter for songs with more than 448 views - so only the top 25% of lyrics.\n",
    "song_lyrics_clean_df = song_lyrics_clean_df[(song_lyrics_clean_df['views'] >= 448)]\n",
    "\n",
    "#Filter data for misc genre\n",
    "song_lyrics_clean_df = song_lyrics_clean_df[~(song_lyrics_clean_df['tag'] == 'misc')]\n",
    "\n",
    "#Clean text\n",
    "song_lyrics_clean_df['lyrics'] = song_lyrics_clean_df['lyrics'].apply(clean_lyrics)\n",
    "\n",
    "# Drop unecessary columns\n",
    "song_lyrics_clean_df = song_lyrics_clean_df.drop(columns=['id','language_cld3','language_ft'])\n"
   ]
  },
  {
   "cell_type": "markdown",
   "metadata": {},
   "source": [
    "### Sampling the data\n",
    "\n",
    "Assumption for a getting sample for the text classification problem - too long to run analysis on everything"
   ]
  },
  {
   "cell_type": "code",
   "execution_count": null,
   "metadata": {},
   "outputs": [],
   "source": [
    "import pandas as pd\n",
    "\n",
    "#Write df to csv\n",
    "#song_lyrics_clean_df.to_csv(\"song_lyrics_clean_df.csv\")\n",
    "\n",
    "song_lyrics_clean_df = pd.read_csv(\"song_lyrics_clean_df.csv\")\n",
    "\n",
    "# Desired total sample size\n",
    "total_sample_size = 2000\n",
    "\n",
    "# Calculate the number of rows in each category\n",
    "genre_counts = song_lyrics_clean_df['tag'].value_counts()\n",
    "\n",
    "# Calculate the sample size for each category\n",
    "stratified_sample_sizes = (genre_counts / genre_counts.sum() * total_sample_size).round().astype(int)\n",
    "\n",
    "# Perform stratified sampling\n",
    "song_lyrics_clean_sample_df = song_lyrics_clean_df.groupby('tag').apply(lambda x: x.sample(stratified_sample_sizes.loc[x.name], random_state=1)).reset_index(drop=True)\n",
    "\n",
    "#Save output to csv\n",
    "song_lyrics_clean_sample_df.to_csv('song_lyrics_clean_sample.csv')\n",
    "\n"
   ]
  },
  {
   "cell_type": "markdown",
   "metadata": {},
   "source": [
    "## Which songs evoke positive, negative or neutral feelings?"
   ]
  },
  {
   "cell_type": "markdown",
   "metadata": {},
   "source": [
    "### Zero-shot Classification\n",
    "\n",
    "Commentary TBC\n",
    "<!--write something about using zero shot classification \n",
    "Write about testing it on Wish You Were HEre\n",
    "Write about the results - what do they broadly say about lyrics?\n",
    "Also note issues - i.e. thunderstruck\n",
    "https://huggingface.co/tasks/zero-shot-classification\n",
    "https://huggingface.co/facebook/bart-large-mnli\n",
    "https://huggingface.co/datasets/nyu-mll/multi_nli\n",
    "-->"
   ]
  },
  {
   "cell_type": "code",
   "execution_count": null,
   "metadata": {},
   "outputs": [],
   "source": [
    "# Developing the zero-shot model\n",
    "import torch\n",
    "from transformers import pipeline\n",
    "\n",
    "#Added to ensure that it uses the apple M1 cores.\n",
    "#https://github.com/jeffheaton/app_deep_learning/blob/main/install/pytorch-install-aug-2023.ipynb\n",
    "has_gpu = torch.cuda.is_available()\n",
    "has_mps = torch.backends.mps.is_built()\n",
    "device = \"mps\" if has_mps else \"cuda\" if torch.cuda.is_available() else \"cpu\"\n",
    "#device = 'cuda' if torch.cuda.is_available() else 'cpu'\n",
    "\n",
    "# Initialize the zero-shot classification pipeline\n",
    "classifier = pipeline(\"zero-shot-classification\", model=\"facebook/bart-large-mnli\",device=device)\n"
   ]
  },
  {
   "cell_type": "code",
   "execution_count": null,
   "metadata": {},
   "outputs": [],
   "source": [
    "# Define candidate labels\n",
    "sentiment_labels = [\"positive\",\"neutral\",\"negative\"]\n",
    "\n",
    "#Lyrics\n",
    "song_df = song_lyrics_clean_df[(song_lyrics_clean_df['artist'] == \"Pink Floyd\") & (song_lyrics_clean_df['title'] == \"Wish You Were Here\")]\n",
    "song_lyrics = song_df.iloc[0,6]\n",
    "\n",
    "# Perform zero-shot classification\n",
    "sentiment_result = classifier(song_lyrics, sentiment_labels)\n",
    "\n",
    "#Sentiment results\n",
    "print(\"Sentiment Labels:\", sentiment_labels)\n",
    "print(\"Classification Result:\", sentiment_result)\n"
   ]
  },
  {
   "cell_type": "code",
   "execution_count": null,
   "metadata": {},
   "outputs": [],
   "source": [
    "#Create dataset for zero shot results\n",
    "song_lyrics_zero_shot_df = song_lyrics_clean_sample_df.copy()\n",
    "\n",
    "#Sentiment labels\n",
    "sentiment_labels = [\"positive\",\"neutral\",\"negative\"]\n",
    "\n",
    "# Function to classify text and store results\n",
    "def classify_lyrics(lyrics, candidate_labels):\n",
    "    result = classifier(lyrics, candidate_labels)\n",
    "    return result\n",
    "\n",
    "# Apply classification to each row and store results\n",
    "song_lyrics_zero_shot_df['classification'] = song_lyrics_zero_shot_df['lyrics'].apply(lambda x: classify_lyrics(x, sentiment_labels))\n",
    "\n",
    "# Extract the scores for each label\n",
    "for label in sentiment_labels:\n",
    "    song_lyrics_zero_shot_df[label] = song_lyrics_zero_shot_df['classification'].apply(lambda x: x['scores'][x['labels'].index(label)])\n",
    "\n",
    "# Extract the predicted label and score\n",
    "song_lyrics_zero_shot_df['predicted_label'] = song_lyrics_zero_shot_df['classification'].apply(lambda x: x['labels'][0])\n",
    "song_lyrics_zero_shot_df['predicted_score'] = song_lyrics_zero_shot_df['classification'].apply(lambda x: x['scores'][0])\n",
    "\n",
    "# Drop the intermediate 'Classification' column\n",
    "song_lyrics_zero_shot_df = song_lyrics_zero_shot_df.drop(columns=['classification'])\n",
    "\n",
    "\n"
   ]
  },
  {
   "cell_type": "code",
   "execution_count": null,
   "metadata": {},
   "outputs": [],
   "source": [
    "#Write results to csv\n",
    "#song_lyrics_zero_shot_df.to_csv('song_lyrics_zero_shot_df.csv')\n",
    "\n",
    "#Load zero shot results\n",
    "song_lyrics_zero_shot_df = pd.read_csv('song_lyrics_zero_shot_df.csv')"
   ]
  },
  {
   "cell_type": "code",
   "execution_count": null,
   "metadata": {},
   "outputs": [],
   "source": [
    "import seaborn as sns\n",
    "import matplotlib.pyplot as plt\n",
    "\n",
    "#Display table of results\n",
    "song_lyrics_zero_shot_summary_df = song_lyrics_zero_shot_df.groupby('predicted_label').agg({'artist':'count'}).reset_index()\n",
    "song_lyrics_zero_shot_summary_df = song_lyrics_zero_shot_summary_df.rename(columns = {\"artist\" : \"number of predictions\"})\n",
    "display(song_lyrics_zero_shot_summary_df)\n",
    "\n",
    "# Create a box plot to visualize and summarize distribution\n",
    "sns.boxplot(x='predicted_label', y = 'predicted_score', data = song_lyrics_zero_shot_df)\n",
    "plt.title('Box Plot of lyric sentiment scores for sample songs (n = 1,999)')\n",
    "plt.show()\n"
   ]
  },
  {
   "cell_type": "code",
   "execution_count": null,
   "metadata": {},
   "outputs": [],
   "source": [
    "#Display table of results\n",
    "song_lyrics_zero_shot_by_genre_df = song_lyrics_zero_shot_df.groupby(['tag','predicted_label']).agg({'artist':'count'}).reset_index()\n",
    "song_lyrics_zero_shot_by_genre_df = song_lyrics_zero_shot_by_genre_df.rename(columns = {'artist' : 'number of predictions','tag' : 'genre'})\n",
    "song_lyrics_zero_shot_by_genre_df = song_lyrics_zero_shot_by_genre_df.pivot_table(index = 'genre',columns='predicted_label',values = 'number of predictions',fill_value=0)\n",
    "display(song_lyrics_zero_shot_by_genre_df)\n",
    "\n",
    "# Create a box plot to visualize and summarize distribution\n",
    "sns.boxplot(x='predicted_label', y = 'predicted_score', hue = 'tag',data = song_lyrics_zero_shot_df)\n",
    "plt.title('Box Plot of lyric sentiment scores for sample songs by genre (n = 1,999)')\n",
    "plt.show()"
   ]
  },
  {
   "cell_type": "markdown",
   "metadata": {},
   "source": [
    "### Multinomial Naive Bayes\n",
    "\n",
    "Now that we have labelled data from zero-shot classification, we can examine the effectiveness of supervised learning techniques.\n",
    "\n",
    "In this example, we will be using a **Naive Bayes (NB)** classifier, which uses [Bayes' theorem](https://www.ibm.com/topics/naive-bayes#:~:text=The%20Naïve%20Bayes%20classifier%20is,probability%20to%20perform%20classification%20tasks.) of conditional probability for classification tasks. \n",
    "\n",
    "The NB classifier most suitable for text classification is **MultinomialNB**. Whereas a binomial distribution has two outcomes (i.e. True or False), multinomial allows for more than two. This is because it assumes the features (i.e. frequency or count of words) belong to a multinomial distribution. This is appropriate for discrete data (i.e. frequency or counts of words).\n",
    "\n",
    "MultinomialNB is effective because it is simple to implement, interpretable and computationally efficient. However, it does not take into account context among features (i.e. words) as it assumes conditional independence. Given the importance of context and meaning within lyrics, this is an area of concern.\n",
    "\n",
    "We will use the following steps to classify lyrics as \"positive\" or \"negative\" using a MuiltnomialNB:\n",
    "\n",
    "1. Data preprocessing: \n",
    "    * Reduce the number of class labels to positive or negative. This is because there are too few neutral labels in the sample to produce an reliable classifier.\n",
    "    * Balance the sample so that there are the same number of positive and negative classes.\n",
    "2. Convert lyrics into TF-IDF Vectors:\n",
    "    * We convert lyrics into **Term Frequency - Inverse Document Frequency** vectors. This calculates how important a word is within our lyric corpus. TF-IDF score is higher for words that appear less frequently, and lower for those that appear more frequently (e.g. \"is\", \"the\"). \n",
    "3. Train the Model:\n",
    "    * The model utilises Bayes' thereom and the TF-IDF scores to estimate the conditional probability that a word appears in each class. \n",
    "    * For example, if the word was \"Love\", the conditional probabilities would be: \n",
    "        * P(Love|Positive). In other words, given the track's has a positive sentiment, what is the likelihood of observing the word \"Love\"?\n",
    "4. Make predictions:\n",
    "    * For new lyrics, we compare the probabilities that the class is positive or negative given the lyrics. This is calculated by summing the likelihood that word(s) appears given the class. \n",
    "    * In this example, if the new lyrics were \"Love\", you would calculate:\n",
    "        * P(Positive|Love) = P(Love|Positive) x P(Positive), where:\n",
    "            * P(Class) = Prior probability that lyrics have a positive sentiment.\n",
    "            * P(Love|Class) = Given the track has a positive sentiment, what is the likelihood of observing the word \"Love\"?\n",
    "            * P(Class|Love) = Posterior probability that the lyrics have a positive sentiment given the word \"Love\".\n",
    "        * Repeat the exercise for P(Negative|Love). The class with the higher posterior probability is the predicted class.   \n",
    "\n",
    "<!-- Set up using labelled data from zero-shot classification -->\n",
    "<!-- https://www.ibm.com/topics/naive-bayes#:~:text=The%20Naïve%20Bayes%20classifier%20is,probability%20to%20perform%20classification%20tasks.-->"
   ]
  },
  {
   "cell_type": "code",
   "execution_count": null,
   "metadata": {},
   "outputs": [
    {
     "name": "stdout",
     "output_type": "stream",
     "text": [
      "Number of samples:  952\n",
      "Number of words in lyric corpus:  14313\n",
      "Accuracy: 0.69\n",
      "              precision    recall  f1-score   support\n",
      "\n",
      "    negative       0.63      0.90      0.74       143\n",
      "    positive       0.82      0.48      0.60       143\n",
      "\n",
      "    accuracy                           0.69       286\n",
      "   macro avg       0.72      0.69      0.67       286\n",
      "weighted avg       0.72      0.69      0.67       286\n",
      "\n"
     ]
    },
    {
     "data": {
      "image/png": "[encoded data removed]",
      "text/plain": [
       "<Figure size 640x480 with 2 Axes>"
      ]
     },
     "metadata": {},
     "output_type": "display_data"
    }
   ],
   "source": [
    "import pandas as pd\n",
    "from sklearn.feature_extraction.text import TfidfVectorizer\n",
    "from sklearn.model_selection import train_test_split\n",
    "from sklearn.naive_bayes import MultinomialNB\n",
    "from sklearn.metrics import accuracy_score, classification_report, confusion_matrix, ConfusionMatrixDisplay\n",
    "\n",
    "# Data Preprocesing\n",
    "# Remove neutral data -  not enough data to train\n",
    "song_lyrics_naive_bayes_df = song_lyrics_zero_shot_df[~(song_lyrics_zero_shot_df['predicted_label'] == \"neutral\")]\n",
    "\n",
    "# Balance the dataset between postive and negative rows\n",
    "song_lyrics_naive_bayes_neg_df = song_lyrics_zero_shot_df[(song_lyrics_zero_shot_df['predicted_label'] == \"negative\")]\n",
    "song_lyrics_naive_bayes_neg_df = song_lyrics_naive_bayes_neg_df.sample(n=476,random_state=42)\n",
    "song_lyrics_naive_bayes_pos_df = song_lyrics_zero_shot_df[(song_lyrics_zero_shot_df['predicted_label'] == \"positive\")]\n",
    "song_lyrics_naive_bayes_df = pd.concat([song_lyrics_naive_bayes_pos_df,song_lyrics_naive_bayes_neg_df])\n",
    "\n",
    "# Convert the text data into TF-IDF features\n",
    "tfidf = TfidfVectorizer()\n",
    "\n",
    "#Feature vector\n",
    "X = tfidf.fit_transform(song_lyrics_naive_bayes_df['lyrics'])\n",
    "\n",
    "#Print vector X\n",
    "print(\"Number of samples: \", X.shape[0])\n",
    "print(\"Number of words in lyric corpus: \", X.shape[1])\n",
    "\n",
    "#Target vector\n",
    "y = song_lyrics_naive_bayes_df['predicted_label']\n",
    "\n",
    "# Splitting the dataset into training and testing sets\n",
    "X_train, X_test, y_train, y_test = train_test_split(X, y, test_size=0.3, random_state=42,stratify=song_lyrics_naive_bayes_df['predicted_label'])\n",
    "\n",
    "# Initialize the Naive Bayes classifier\n",
    "nb = MultinomialNB()\n",
    "\n",
    "# Train the model\n",
    "nb.fit(X_train, y_train)\n",
    "\n",
    "# Predict the labels on the test set\n",
    "y_pred = nb.predict(X_test)\n",
    "\n",
    "# Calculate accuracy\n",
    "accuracy = accuracy_score(y_test, y_pred)\n",
    "print(f'Accuracy: {accuracy:.2f}')\n",
    "\n",
    "# Print the classification report\n",
    "print(classification_report(y_test, y_pred))\n",
    "\n",
    "# Print Confusion Matrix\n",
    "cm = confusion_matrix(y_test, y_pred, labels=nb.classes_)\n",
    "disp = ConfusionMatrixDisplay(confusion_matrix=cm,\n",
    "                              display_labels=nb.classes_)\n",
    "\n",
    "disp.plot()\n",
    "plt.show()"
   ]
  },
  {
   "cell_type": "markdown",
   "metadata": {},
   "source": [
    "The Naive Bayes model makes correct predictions 69% of the time. The precision score (48%) suggests that the model has difficulty classifying lyrics that have a positive sentiment. This is confirmed by the confusion matrix, where 75 songs were incorrectly classified as negative. This leads to two reflections:\n",
    "\n",
    "1. MultinomialNB assumes that features (words) are conditionally independent - in other words it does not capture context. This assumption does not hold as lyrics have strong dependencies. For example, the word \"crazy\" has negative connotations. However, within the lyric \"Shine on you crazy diamond\", it has positive overtones. Therefore, there is a high chance of incorrect classificationas the model.\n",
    "2. As shown in the Zero-shot analysis boxplots, lyrics classed as negative tend to be *strongly* negative compared to positive. Therefore, perhaps it is easier for the MultinomialNB to identify, or default to, classing lyrics as negative.\n"
   ]
  },
  {
   "cell_type": "markdown",
   "metadata": {},
   "source": [
    "### Chat GPT Prompt\n",
    "TBC"
   ]
  },
  {
   "cell_type": "markdown",
   "metadata": {},
   "source": [
    "### Model comparison using self-labelled data \n",
    "\n",
    "Aim here is to see how well large language models compare to supervised learning techniques with self-labelled data.\n",
    "\n",
    "1. Read in labelled data of 62 songs\n",
    "2. Classify text using (1) Multinomial NB and (2) Zero-shot classification\n",
    "3. Compare results"
   ]
  },
  {
   "cell_type": "code",
   "execution_count": null,
   "metadata": {},
   "outputs": [],
   "source": [
    "# Read labelled data\n",
    "song_lyrics_positive_labelled_df = pd.read_csv('song_lyrics_positive_labelled.csv')\n",
    "song_lyrics_negative_labelled_df = pd.read_csv('song_lyrics_negative_labelled.csv')\n",
    "\n",
    "song_lyrics_labelled_df = pd.concat([song_lyrics_positive_labelled_df,song_lyrics_negative_labelled_df])"
   ]
  },
  {
   "cell_type": "markdown",
   "metadata": {},
   "source": [
    "#### Multinomial NB\n",
    "\n",
    "Note - may have to use the code below to build the original model, and then extend it to train the data."
   ]
  },
  {
   "cell_type": "code",
   "execution_count": null,
   "metadata": {},
   "outputs": [
    {
     "name": "stdout",
     "output_type": "stream",
     "text": [
      "Results using unseen data\n",
      "Accuracy: 0.7903225806451613\n",
      "Classification Report:\n",
      "              precision    recall  f1-score   support\n",
      "\n",
      "    negative       0.72      0.94      0.82        31\n",
      "    positive       0.91      0.65      0.75        31\n",
      "\n",
      "    accuracy                           0.79        62\n",
      "   macro avg       0.82      0.79      0.79        62\n",
      "weighted avg       0.82      0.79      0.79        62\n",
      "\n"
     ]
    },
    {
     "data": {
      "image/png": "[encoded data removed]",
      "text/plain": [
       "<Figure size 640x480 with 2 Axes>"
      ]
     },
     "metadata": {},
     "output_type": "display_data"
    }
   ],
   "source": [
    "# Multinomial NB\n",
    "X_new = song_lyrics_naive_bayes_df['lyrics']\n",
    "labels_new = song_lyrics_naive_bayes_df['predicted_label']\n",
    "\n",
    "# Step 1: Split the data into training and testing sets\n",
    "X_train, X_test, y_train, y_test = train_test_split(X_new, labels_new, test_size=0.3, random_state=42,stratify=song_lyrics_naive_bayes_df['predicted_label'])\n",
    "\n",
    "# Step 2: Vectorize the text data using TF-IDF\n",
    "vectorizer = TfidfVectorizer()\n",
    "X_train_vectorized = vectorizer.fit_transform(X_train)\n",
    "X_test_vectorized = vectorizer.transform(X_test)\n",
    "\n",
    "# Step 3: Train the Multinomial Naive Bayes model\n",
    "model = MultinomialNB()\n",
    "model.fit(X_train_vectorized, y_train)\n",
    "\n",
    "# Step 4: Test the model on the test data\n",
    "y_pred = model.predict(X_test_vectorized)\n",
    "\n",
    "# Step 5: Evaluate the model's performance\n",
    "# accuracy = accuracy_score(y_test, y_pred)\n",
    "# print(f\"Accuracy: {accuracy}\")\n",
    "# print(\"Classification Report:\")\n",
    "# print(classification_report(y_test, y_pred))\n",
    "\n",
    "# Step 6: Use the trained model to predict on unseen data\n",
    "unseen_data = song_lyrics_labelled_df['lyrics']\n",
    "unseen_actual = song_lyrics_labelled_df['actual_label']\n",
    "unseen_data_vectorized = vectorizer.transform(unseen_data)\n",
    "unseen_predictions = model.predict(unseen_data_vectorized)\n",
    "\n",
    "accuracy = accuracy_score(unseen_actual, unseen_predictions)\n",
    "print(\"Results using unseen data\")\n",
    "print(f\"Accuracy: {accuracy}\")\n",
    "print(\"Classification Report:\")\n",
    "print(classification_report(unseen_actual, unseen_predictions))\n",
    "\n",
    "# Print Confusion Matrix\n",
    "cm = confusion_matrix(unseen_actual, unseen_predictions, labels=nb.classes_)\n",
    "disp = ConfusionMatrixDisplay(confusion_matrix=cm,\n",
    "                              display_labels=nb.classes_)\n",
    "\n",
    "disp.plot()\n",
    "plt.show()\n",
    "\n",
    "\n",
    "\n",
    "\n"
   ]
  },
  {
   "cell_type": "markdown",
   "metadata": {},
   "source": [
    "#### Zero Shot Classification\n",
    "\n",
    "TBC"
   ]
  },
  {
   "cell_type": "code",
   "execution_count": null,
   "metadata": {},
   "outputs": [],
   "source": [
    "# Zero-Shot Classification\n",
    "\n",
    "#Create dataset for zero shot results\n",
    "song_lyrics_zero_shot_unseen_df = song_lyrics_labelled_df.copy()\n",
    "\n",
    "#Sentiment labels\n",
    "sentiment_labels = [\"positive\",\"neutral\",\"negative\"]\n",
    "\n",
    "# Function to classify text and store results\n",
    "def classify_lyrics(lyrics, candidate_labels):\n",
    "    result = classifier(lyrics, candidate_labels)\n",
    "    return result\n",
    "\n",
    "# Apply classification to each row and store results\n",
    "song_lyrics_zero_shot_unseen_df['classification'] = song_lyrics_zero_shot_unseen_df['lyrics'].apply(lambda x: classify_lyrics(x, sentiment_labels))\n",
    "\n",
    "# Extract the scores for each label\n",
    "for label in sentiment_labels:\n",
    "    song_lyrics_zero_shot_unseen_df[label] = song_lyrics_zero_shot_unseen_df['classification'].apply(lambda x: x['scores'][x['labels'].index(label)])\n",
    "\n",
    "# Extract the predicted label and score\n",
    "song_lyrics_zero_shot_unseen_df['predicted_label'] = song_lyrics_zero_shot_unseen_df['classification'].apply(lambda x: x['labels'][0])\n",
    "song_lyrics_zero_shot_unseen_df['predicted_score'] = song_lyrics_zero_shot_unseen_df['classification'].apply(lambda x: x['scores'][0])\n",
    "\n",
    "# Drop the intermediate 'Classification' column\n",
    "song_lyrics_zero_shot_unseen_df = song_lyrics_zero_shot_unseen_df.drop(columns=['classification'])\n",
    "\n",
    "\n"
   ]
  },
  {
   "cell_type": "code",
   "execution_count": null,
   "metadata": {},
   "outputs": [
    {
     "name": "stdout",
     "output_type": "stream",
     "text": [
      "Zero-shot results using unseen data\n",
      "Accuracy: 0.8709677419354839\n",
      "Classification Report:\n",
      "              precision    recall  f1-score   support\n",
      "\n",
      "    negative       0.79      1.00      0.89        31\n",
      "    positive       1.00      0.74      0.85        31\n",
      "\n",
      "    accuracy                           0.87        62\n",
      "   macro avg       0.90      0.87      0.87        62\n",
      "weighted avg       0.90      0.87      0.87        62\n",
      "\n"
     ]
    },
    {
     "data": {
      "image/png": "[encoded data removed]",
      "text/plain": [
       "<Figure size 640x480 with 2 Axes>"
      ]
     },
     "metadata": {},
     "output_type": "display_data"
    }
   ],
   "source": [
    "#Confusion Matrix\n",
    "accuracy = accuracy_score(song_lyrics_zero_shot_unseen_df['actual_label'], song_lyrics_zero_shot_unseen_df['predicted_label'])\n",
    "print(\"Zero-shot results using unseen data\")\n",
    "print(f\"Accuracy: {accuracy}\")\n",
    "print(\"Classification Report:\")\n",
    "print(classification_report(song_lyrics_zero_shot_unseen_df['actual_label'], song_lyrics_zero_shot_unseen_df['predicted_label']))\n",
    "\n",
    "# Print Confusion Matrix\n",
    "cm = confusion_matrix(song_lyrics_zero_shot_unseen_df['actual_label'], song_lyrics_zero_shot_unseen_df['predicted_label'], labels=nb.classes_)\n",
    "disp = ConfusionMatrixDisplay(confusion_matrix=cm,\n",
    "                              display_labels=nb.classes_)\n",
    "\n",
    "disp.plot()\n",
    "plt.show()"
   ]
  }
 ],
 "metadata": {
  "kernelspec": {
   "display_name": "lyrical_sentiment",
   "language": "python",
   "name": "python3"
  },
  "language_info": {
   "codemirror_mode": {
    "name": "ipython",
    "version": 3
   },
   "file_extension": ".py",
   "mimetype": "text/x-python",
   "name": "python",
   "nbconvert_exporter": "python",
   "pygments_lexer": "ipython3",
   "version": "3.12.4"
  }
 },
 "nbformat": 4,
 "nbformat_minor": 2
}
