{
 "cells": [
  {
   "cell_type": "markdown",
   "metadata": {},
   "source": [
    "# Models and Lyrics\n",
    "\n",
    "This project aims to:\n",
    "1. Use text classification methods to examine lyric sentiment for songs in English.\n",
    "2. Train a large language model (LLM) to generate lyrics in English. I would also like to develop new features - such a genre or mood - to enable the model to handle more complex queries. For example:\n",
    "    * Lyrics + Rock + Happy\n",
    "    * Lyrics + Pop + Nostalgic\n",
    "    \n",
    "\n",
    "The project will be using the  [Genius Song Lyric](https://www.kaggle.com/datasets/carlosgdcj/genius-song-lyrics-with-language-information/data?select=song_lyrics.csv) dataset from Kaggle.\n",
    "\n",
    "<!-- Project steps:\n",
    "(1) Data exploration\n",
    "(2) Data preprocessing\n",
    "(3) Model selection\n",
    "(4) Training\n",
    "(5) Fine-tuning and validation\n",
    "(6) Deploy model and test\n",
    "(7) Add new features, and repeat steps 2-6. -->"
   ]
  },
  {
   "cell_type": "code",
   "execution_count": 1,
   "metadata": {},
   "outputs": [],
   "source": [
    "#Import libraries and packages\n",
    "import pandas as pd\n",
    "import plotly.express as px\n",
    "import seaborn as sns\n",
    "import matplotlib.pyplot as plt\n",
    "import re\n",
    "import torch\n",
    "from transformers import pipeline"
   ]
  },
  {
   "cell_type": "markdown",
   "metadata": {
    "vscode": {
     "languageId": "plaintext"
    }
   },
   "source": [
    "# Exploratory Data Analysis"
   ]
  },
  {
   "cell_type": "code",
   "execution_count": 21,
   "metadata": {},
   "outputs": [],
   "source": [
    "#Read data using chunks\n",
    "\n",
    "import pandas as pd\n",
    "\n",
    "file_path = 'song_lyrics.csv'\n",
    "\n",
    "chunk_size = 100000\n",
    "\n",
    "chunks = []\n",
    "\n",
    "for chunk in pd.read_csv(file_path, chunksize=chunk_size):\n",
    "\n",
    "    chunks.append(chunk)\n",
    "\n",
    "# Concatenate all chunks into a single DataFrame if needed\n",
    "song_lyrics_full_df = pd.concat(chunks, ignore_index=True)\n",
    "\n",
    "\n"
   ]
  },
  {
   "cell_type": "code",
   "execution_count": 22,
   "metadata": {},
   "outputs": [
    {
     "name": "stderr",
     "output_type": "stream",
     "text": [
      "/var/folders/52/f3r19jwn72s9q8h3h8bsc8vh0000gn/T/ipykernel_2145/2948831653.py:2: DeprecationWarning: DataFrameGroupBy.apply operated on the grouping columns. This behavior is deprecated, and in a future version of pandas the grouping columns will be excluded from the operation. Either pass `include_groups=False` to exclude the groupings or explicitly select the grouping columns after groupby to silence this warning.\n",
      "  song_lyrics_sample_df =  song_lyrics_full_df.groupby('year', group_keys=False).apply(lambda x: x.sample(frac=0.01)) #take a sample based on xyz?\n"
     ]
    }
   ],
   "source": [
    "# Generate sample data for EDA\n",
    "song_lyrics_sample_df =  song_lyrics_full_df.groupby('year', group_keys=False).apply(lambda x: x.sample(frac=0.01)) #take a sample based on xyz?"
   ]
  },
  {
   "cell_type": "markdown",
   "metadata": {},
   "source": [
    "### Variable Descriptions\n",
    "\n",
    "Description of each column in the dataset, as provided on [Genius Song Lyrics](https://www.kaggle.com/datasets/carlosgdcj/genius-song-lyrics-with-language-information/data?select=song_lyrics).\n",
    "\n",
    "| Variable | Description |\n",
    "|:--------|:--------|\n",
    "|  title   |  track name  | \n",
    "|  tag   |  track genre   | \n",
    "|  artist   |  artist name | \n",
    "|  year | year of release  |\n",
    "|  views | number of views on [genius.com](https://genius.com)  |\n",
    "|  features |  artists who feature on the track |\n",
    "|  lyrics |  track lyrics |\n",
    "|  id | track id, provided by genius  |\n",
    "|  language_cld3 | lyrics language according to CLD3  |\n",
    "|  language_ft | lyrics language according to FastText's langid  |\n",
    "|  language |  Combines language_cld3 and language_ft. Only has a non NaN entry if they both \"agree\" |\n"
   ]
  },
  {
   "cell_type": "markdown",
   "metadata": {},
   "source": [
    "### Views\n",
    "\n",
    "When classifying or generating lyrics, it's important to be analysing lyrics that matter. We can use track views as a proxy for whether the lyrics matter.\n",
    "\n",
    "The distribution of views is heavily skewed to the left. Over half of the songs in the dataset have been viewed less than 100 times, and 75% less than 500 times. \n",
    "\n",
    "<!--perhaps we could use views per year?-->"
   ]
  },
  {
   "cell_type": "code",
   "execution_count": 23,
   "metadata": {},
   "outputs": [
    {
     "data": {
      "image/png": "[encoded data removed]",
      "text/plain": [
       "<Figure size 640x480 with 1 Axes>"
      ]
     },
     "metadata": {},
     "output_type": "display_data"
    },
    {
     "name": "stdout",
     "output_type": "stream",
     "text": [
      "count    5.134856e+06\n",
      "mean     3.060939e+03\n",
      "std      4.730980e+04\n",
      "min      0.000000e+00\n",
      "25%      2.200000e+01\n",
      "50%      8.500000e+01\n",
      "75%      4.480000e+02\n",
      "max      2.335142e+07\n",
      "Name: views, dtype: float64\n"
     ]
    }
   ],
   "source": [
    "import seaborn as sns\n",
    "import matplotlib.pyplot as plt\n",
    "\n",
    "# Create a box plot to visualize and summarize distribution\n",
    "sns.boxplot(x=song_lyrics_full_df['views'])\n",
    "plt.title('Box Plot of view')\n",
    "plt.show()\n",
    "\n",
    "print(song_lyrics_full_df['views'].describe())\n"
   ]
  },
  {
   "cell_type": "markdown",
   "metadata": {},
   "source": [
    "### Tracks by Year\n",
    "\n",
    "It appears the dataset has tracks from the *year zero* and *2100*, with an exponential spike in tracks as we close in on the millenia."
   ]
  },
  {
   "cell_type": "code",
   "execution_count": 24,
   "metadata": {},
   "outputs": [
    {
     "data": {
      "application/vnd.plotly.v1+json": {
       "config": {
        "plotlyServerURL": "https://plot.ly"
       },
       "data": [
        {
         "hovertemplate": "year=%{x}<br># tracks=%{y}<extra></extra>",
         "legendgroup": "",
         "line": {
          "color": "#636efa",
          "dash": "solid"
         },
         "marker": {
          "symbol": "circle"
         },
         "mode": "lines",
         "name": "",
         "orientation": "v",
         "showlegend": false,
         "type": "scatter",
         "x": [
          1,
          2,
          3,
          4,
          5,
          6,
          7,
          8,
          9,
          10,
          11,
          12,
          13,
          14,
          15,
          16,
          17,
          18,
          19,
          20,
          21,
          22,
          23,
          24,
          25,
          26,
          27,
          28,
          29,
          31,
          33,
          49,
          60,
          62,
          64,
          65,
          66,
          69,
          72,
          75,
          79,
          90,
          95,
          99,
          100,
          110,
          112,
          114,
          116,
          121,
          130,
          144,
          166,
          170,
          176,
          190,
          193,
          196,
          199,
          202,
          203,
          205,
          206,
          207,
          209,
          210,
          211,
          212,
          213,
          214,
          215,
          216,
          217,
          218,
          219,
          220,
          226,
          228,
          229,
          250,
          259,
          270,
          280,
          291,
          293,
          299,
          301,
          318,
          343,
          377,
          381,
          382,
          392,
          397,
          399,
          411,
          413,
          414,
          420,
          426,
          428,
          431,
          440,
          442,
          463,
          466,
          499,
          510,
          514,
          524,
          527,
          555,
          599,
          600,
          611,
          615,
          619,
          632,
          633,
          666,
          670,
          673,
          698,
          699,
          700,
          706,
          709,
          729,
          769,
          770,
          789,
          790,
          797,
          799,
          800,
          801,
          868,
          899,
          907,
          920,
          934,
          936,
          969,
          971,
          976,
          983,
          994,
          999,
          1000,
          1005,
          1010,
          1011,
          1013,
          1017,
          1025,
          1029,
          1045,
          1052,
          1059,
          1066,
          1069,
          1076,
          1078,
          1081,
          1089,
          1095,
          1097,
          1099,
          1100,
          1110,
          1111,
          1118,
          1145,
          1159,
          1166,
          1176,
          1180,
          1187,
          1188,
          1191,
          1192,
          1198,
          1200,
          1208,
          1210,
          1213,
          1215,
          1217,
          1219,
          1220,
          1221,
          1223,
          1224,
          1228,
          1230,
          1240,
          1250,
          1251,
          1260,
          1266,
          1270,
          1280,
          1299,
          1300,
          1308,
          1312,
          1319,
          1320,
          1321,
          1335,
          1336,
          1337,
          1343,
          1345,
          1347,
          1353,
          1359,
          1364,
          1377,
          1380,
          1383,
          1385,
          1386,
          1390,
          1392,
          1393,
          1399,
          1400,
          1401,
          1404,
          1410,
          1415,
          1420,
          1433,
          1436,
          1437,
          1441,
          1445,
          1450,
          1451,
          1452,
          1453,
          1460,
          1461,
          1462,
          1464,
          1469,
          1472,
          1475,
          1476,
          1477,
          1478,
          1482,
          1483,
          1485,
          1488,
          1489,
          1490,
          1492,
          1499,
          1500,
          1503,
          1516,
          1517,
          1520,
          1530,
          1531,
          1532,
          1534,
          1535,
          1536,
          1538,
          1540,
          1542,
          1546,
          1547,
          1550,
          1551,
          1552,
          1555,
          1558,
          1559,
          1560,
          1562,
          1563,
          1564,
          1566,
          1567,
          1569,
          1572,
          1575,
          1578,
          1580,
          1581,
          1582,
          1584,
          1587,
          1588,
          1590,
          1591,
          1592,
          1593,
          1594,
          1595,
          1596,
          1597,
          1598,
          1599,
          1600,
          1601,
          1602,
          1603,
          1604,
          1605,
          1606,
          1607,
          1608,
          1609,
          1610,
          1611,
          1612,
          1613,
          1614,
          1616,
          1620,
          1621,
          1623,
          1624,
          1625,
          1626,
          1628,
          1629,
          1630,
          1632,
          1633,
          1634,
          1635,
          1637,
          1641,
          1642,
          1643,
          1645,
          1647,
          1648,
          1649,
          1650,
          1651,
          1653,
          1657,
          1659,
          1662,
          1664,
          1665,
          1666,
          1667,
          1668,
          1669,
          1670,
          1671,
          1673,
          1674,
          1675,
          1676,
          1677,
          1678,
          1680,
          1681,
          1682,
          1684,
          1685,
          1686,
          1687,
          1688,
          1689,
          1691,
          1692,
          1693,
          1695,
          1696,
          1697,
          1698,
          1700,
          1701,
          1704,
          1706,
          1709,
          1710,
          1712,
          1713,
          1714,
          1715,
          1716,
          1717,
          1718,
          1719,
          1720,
          1722,
          1723,
          1725,
          1726,
          1727,
          1728,
          1729,
          1730,
          1731,
          1732,
          1734,
          1735,
          1738,
          1739,
          1740,
          1741,
          1742,
          1743,
          1744,
          1745,
          1746,
          1748,
          1749,
          1750,
          1751,
          1752,
          1753,
          1754,
          1755,
          1756,
          1757,
          1758,
          1759,
          1760,
          1761,
          1762,
          1763,
          1764,
          1765,
          1766,
          1767,
          1768,
          1769,
          1770,
          1771,
          1772,
          1773,
          1774,
          1775,
          1776,
          1777,
          1778,
          1779,
          1780,
          1781,
          1782,
          1783,
          1784,
          1785,
          1786,
          1787,
          1788,
          1789,
          1790,
          1791,
          1792,
          1793,
          1794,
          1795,
          1796,
          1797,
          1798,
          1799,
          1800,
          1801,
          1802,
          1803,
          1804,
          1805,
          1806,
          1807,
          1808,
          1809,
          1810,
          1811,
          1812,
          1813,
          1814,
          1815,
          1816,
          1817,
          1818,
          1819,
          1820,
          1821,
          1822,
          1823,
          1824,
          1825,
          1826,
          1827,
          1828,
          1829,
          1830,
          1831,
          1832,
          1833,
          1834,
          1835,
          1836,
          1837,
          1838,
          1839,
          1840,
          1841,
          1842,
          1843,
          1844,
          1845,
          1846,
          1847,
          1848,
          1849,
          1850,
          1851,
          1852,
          1853,
          1854,
          1855,
          1856,
          1857,
          1858,
          1859,
          1860,
          1861,
          1862,
          1863,
          1864,
          1865,
          1866,
          1867,
          1868,
          1869,
          1870,
          1871,
          1872,
          1873,
          1874,
          1875,
          1876,
          1877,
          1878,
          1879,
          1880,
          1881,
          1882,
          1883,
          1884,
          1885,
          1886,
          1887,
          1888,
          1889,
          1890,
          1891,
          1892,
          1893,
          1894,
          1895,
          1896,
          1897,
          1898,
          1899,
          1900,
          1901,
          1902,
          1903,
          1904,
          1905,
          1906,
          1907,
          1908,
          1909,
          1910,
          1911,
          1912,
          1913,
          1914,
          1915,
          1916,
          1917,
          1918,
          1919,
          1920,
          1921,
          1922,
          1923,
          1924,
          1925,
          1926,
          1927,
          1928,
          1929,
          1930,
          1931,
          1932,
          1933,
          1934,
          1935,
          1936,
          1937,
          1938,
          1939,
          1940,
          1941,
          1942,
          1943,
          1944,
          1945,
          1946,
          1947,
          1948,
          1949,
          1950,
          1951,
          1952,
          1953,
          1954,
          1955,
          1956,
          1957,
          1958,
          1959,
          1960,
          1961,
          1962,
          1963,
          1964,
          1965,
          1966,
          1967,
          1968,
          1969,
          1970,
          1971,
          1972,
          1973,
          1974,
          1975,
          1976,
          1977,
          1978,
          1979,
          1980,
          1981,
          1982,
          1983,
          1984,
          1985,
          1986,
          1987,
          1988,
          1989,
          1990,
          1991,
          1992,
          1993,
          1994,
          1995,
          1996,
          1997,
          1998,
          1999,
          2000,
          2001,
          2002,
          2003,
          2004,
          2005,
          2006,
          2007,
          2008,
          2009,
          2010,
          2011,
          2012,
          2013,
          2014,
          2015,
          2016,
          2017,
          2018,
          2019,
          2020,
          2021,
          2022,
          2023,
          2024,
          2027,
          2057,
          2100
         ],
         "xaxis": "x",
         "y": [
          1670,
          14,
          9,
          5,
          4,
          9,
          6,
          8,
          5,
          12,
          2,
          9,
          3,
          4,
          14,
          13,
          16,
          14,
          22,
          17,
          16,
          9,
          6,
          3,
          1,
          5,
          1,
          3,
          2,
          2,
          2,
          2,
          1,
          1,
          1,
          1,
          1,
          15,
          1,
          2,
          2,
          28,
          1,
          2,
          2,
          1,
          1,
          1,
          1,
          1,
          1,
          1,
          1,
          1,
          1,
          1,
          1,
          1,
          1,
          1,
          1,
          2,
          1,
          3,
          2,
          4,
          3,
          2,
          4,
          1,
          1,
          1,
          4,
          2,
          4,
          2,
          1,
          2,
          1,
          1,
          1,
          1,
          1,
          1,
          1,
          2,
          1,
          2,
          1,
          1,
          1,
          1,
          1,
          13,
          3,
          1,
          1,
          1,
          16,
          8,
          1,
          4,
          1,
          7,
          2,
          1,
          3,
          1,
          1,
          1,
          1,
          1,
          3,
          1,
          80,
          1,
          1,
          1,
          1,
          15,
          1,
          1,
          1,
          2,
          1,
          1,
          1,
          1,
          1,
          1,
          1,
          1,
          1,
          2,
          2,
          3,
          1,
          1,
          1,
          1,
          1,
          1,
          1,
          1,
          1,
          1,
          2,
          1,
          5,
          1,
          1,
          1,
          1,
          1,
          1,
          1,
          1,
          1,
          1,
          2,
          1,
          1,
          1,
          2,
          1,
          1,
          2,
          1,
          1,
          1,
          1,
          1,
          4,
          1,
          1,
          11,
          1,
          1,
          1,
          1,
          1,
          3,
          18,
          1,
          1,
          1,
          2,
          1,
          1,
          2,
          1,
          1,
          1,
          49,
          7,
          1,
          1,
          1,
          1,
          1,
          1,
          2,
          2,
          27,
          1,
          1,
          1,
          1,
          17,
          1,
          1,
          2,
          1,
          1,
          1,
          24,
          1,
          1,
          222,
          2,
          1,
          6,
          1,
          1,
          3,
          1,
          1,
          3,
          1,
          1,
          3,
          2,
          8,
          1,
          1,
          1,
          1,
          5,
          1,
          3,
          1,
          1,
          4,
          1,
          1,
          1,
          1,
          2,
          1,
          3,
          1,
          1,
          2,
          1,
          1,
          1,
          1,
          2,
          3,
          1,
          2,
          2,
          14,
          143,
          1,
          1,
          3,
          30,
          2,
          1,
          76,
          1,
          3,
          1,
          1,
          1,
          2,
          1,
          3,
          14,
          3,
          1,
          2,
          1,
          16,
          1,
          5,
          1,
          1,
          11,
          28,
          3,
          24,
          20,
          1,
          1,
          17,
          1,
          164,
          148,
          30,
          57,
          16,
          134,
          2,
          26,
          41,
          81,
          91,
          19,
          68,
          92,
          28,
          19,
          69,
          1,
          75,
          206,
          23,
          80,
          25,
          22,
          57,
          34,
          1,
          2,
          96,
          5,
          27,
          1,
          5,
          27,
          2,
          43,
          63,
          1,
          3,
          2,
          6,
          4,
          3,
          14,
          5,
          1,
          2,
          3,
          2,
          3,
          19,
          1,
          2,
          2,
          22,
          30,
          16,
          28,
          1,
          17,
          3,
          1,
          5,
          3,
          2,
          1,
          1,
          4,
          28,
          1,
          2,
          2,
          1,
          5,
          3,
          1,
          3,
          1,
          1,
          6,
          1,
          13,
          17,
          12,
          1,
          1,
          1,
          3,
          3,
          6,
          1,
          3,
          1,
          2,
          2,
          1,
          23,
          1,
          3,
          2,
          3,
          40,
          3,
          1,
          2,
          3,
          5,
          1,
          3,
          3,
          93,
          4,
          4,
          2,
          64,
          2,
          33,
          3,
          1,
          69,
          209,
          4,
          151,
          7,
          1,
          62,
          6,
          1,
          1,
          4,
          407,
          1,
          3,
          5,
          15,
          7,
          6,
          34,
          1,
          1,
          1,
          3,
          25,
          9,
          11,
          41,
          40,
          47,
          5,
          93,
          27,
          17,
          21,
          6,
          2,
          43,
          3,
          9,
          88,
          45,
          47,
          72,
          12,
          34,
          10,
          12,
          24,
          20,
          8,
          35,
          6,
          15,
          11,
          4,
          3,
          6,
          22,
          3,
          13,
          71,
          4,
          22,
          54,
          221,
          71,
          61,
          65,
          35,
          56,
          142,
          52,
          72,
          78,
          15,
          9,
          30,
          31,
          16,
          26,
          30,
          21,
          252,
          28,
          40,
          16,
          38,
          35,
          135,
          228,
          93,
          75,
          18,
          177,
          91,
          78,
          101,
          47,
          65,
          415,
          174,
          74,
          122,
          175,
          133,
          129,
          65,
          434,
          49,
          246,
          9,
          169,
          188,
          135,
          349,
          42,
          39,
          138,
          94,
          200,
          443,
          214,
          129,
          79,
          155,
          232,
          218,
          162,
          128,
          250,
          74,
          178,
          98,
          156,
          312,
          213,
          74,
          216,
          236,
          173,
          97,
          116,
          169,
          205,
          125,
          45,
          87,
          97,
          459,
          228,
          118,
          213,
          174,
          125,
          128,
          181,
          241,
          130,
          321,
          184,
          164,
          131,
          219,
          145,
          128,
          330,
          305,
          370,
          158,
          307,
          103,
          103,
          395,
          113,
          398,
          287,
          253,
          252,
          234,
          247,
          334,
          276,
          353,
          193,
          190,
          181,
          190,
          176,
          234,
          288,
          169,
          308,
          209,
          189,
          182,
          159,
          139,
          220,
          187,
          237,
          195,
          337,
          439,
          467,
          479,
          508,
          778,
          1003,
          1529,
          2108,
          2317,
          2836,
          2783,
          3155,
          3487,
          3928,
          4563,
          5597,
          6159,
          7089,
          7795,
          8257,
          8621,
          8783,
          8843,
          9115,
          8581,
          9029,
          8841,
          9530,
          9890,
          10858,
          11368,
          12191,
          12549,
          12462,
          12831,
          13373,
          13989,
          15213,
          16207,
          18250,
          18912,
          21255,
          22705,
          26572,
          30224,
          32791,
          36419,
          38309,
          41110,
          46643,
          47895,
          51457,
          54637,
          60560,
          65025,
          69161,
          73423,
          74106,
          78533,
          82278,
          88098,
          107785,
          127490,
          189918,
          185722,
          468434,
          245911,
          315920,
          404955,
          484305,
          576723,
          524480,
          116282,
          519,
          37,
          1,
          1,
          1
         ],
         "yaxis": "y"
        }
       ],
       "layout": {
        "legend": {
         "tracegroupgap": 0
        },
        "template": {
         "data": {
          "bar": [
           {
            "error_x": {
             "color": "#2a3f5f"
            },
            "error_y": {
             "color": "#2a3f5f"
            },
            "marker": {
             "line": {
              "color": "#E5ECF6",
              "width": 0.5
             },
             "pattern": {
              "fillmode": "overlay",
              "size": 10,
              "solidity": 0.2
             }
            },
            "type": "bar"
           }
          ],
          "barpolar": [
           {
            "marker": {
             "line": {
              "color": "#E5ECF6",
              "width": 0.5
             },
             "pattern": {
              "fillmode": "overlay",
              "size": 10,
              "solidity": 0.2
             }
            },
            "type": "barpolar"
           }
          ],
          "carpet": [
           {
            "aaxis": {
             "endlinecolor": "#2a3f5f",
             "gridcolor": "white",
             "linecolor": "white",
             "minorgridcolor": "white",
             "startlinecolor": "#2a3f5f"
            },
            "baxis": {
             "endlinecolor": "#2a3f5f",
             "gridcolor": "white",
             "linecolor": "white",
             "minorgridcolor": "white",
             "startlinecolor": "#2a3f5f"
            },
            "type": "carpet"
           }
          ],
          "choropleth": [
           {
            "colorbar": {
             "outlinewidth": 0,
             "ticks": ""
            },
            "type": "choropleth"
           }
          ],
          "contour": [
           {
            "colorbar": {
             "outlinewidth": 0,
             "ticks": ""
            },
            "colorscale": [
             [
              0,
              "#0d0887"
             ],
             [
              0.1111111111111111,
              "#46039f"
             ],
             [
              0.2222222222222222,
              "#7201a8"
             ],
             [
              0.3333333333333333,
              "#9c179e"
             ],
             [
              0.4444444444444444,
              "#bd3786"
             ],
             [
              0.5555555555555556,
              "#d8576b"
             ],
             [
              0.6666666666666666,
              "#ed7953"
             ],
             [
              0.7777777777777778,
              "#fb9f3a"
             ],
             [
              0.8888888888888888,
              "#fdca26"
             ],
             [
              1,
              "#f0f921"
             ]
            ],
            "type": "contour"
           }
          ],
          "contourcarpet": [
           {
            "colorbar": {
             "outlinewidth": 0,
             "ticks": ""
            },
            "type": "contourcarpet"
           }
          ],
          "heatmap": [
           {
            "colorbar": {
             "outlinewidth": 0,
             "ticks": ""
            },
            "colorscale": [
             [
              0,
              "#0d0887"
             ],
             [
              0.1111111111111111,
              "#46039f"
             ],
             [
              0.2222222222222222,
              "#7201a8"
             ],
             [
              0.3333333333333333,
              "#9c179e"
             ],
             [
              0.4444444444444444,
              "#bd3786"
             ],
             [
              0.5555555555555556,
              "#d8576b"
             ],
             [
              0.6666666666666666,
              "#ed7953"
             ],
             [
              0.7777777777777778,
              "#fb9f3a"
             ],
             [
              0.8888888888888888,
              "#fdca26"
             ],
             [
              1,
              "#f0f921"
             ]
            ],
            "type": "heatmap"
           }
          ],
          "heatmapgl": [
           {
            "colorbar": {
             "outlinewidth": 0,
             "ticks": ""
            },
            "colorscale": [
             [
              0,
              "#0d0887"
             ],
             [
              0.1111111111111111,
              "#46039f"
             ],
             [
              0.2222222222222222,
              "#7201a8"
             ],
             [
              0.3333333333333333,
              "#9c179e"
             ],
             [
              0.4444444444444444,
              "#bd3786"
             ],
             [
              0.5555555555555556,
              "#d8576b"
             ],
             [
              0.6666666666666666,
              "#ed7953"
             ],
             [
              0.7777777777777778,
              "#fb9f3a"
             ],
             [
              0.8888888888888888,
              "#fdca26"
             ],
             [
              1,
              "#f0f921"
             ]
            ],
            "type": "heatmapgl"
           }
          ],
          "histogram": [
           {
            "marker": {
             "pattern": {
              "fillmode": "overlay",
              "size": 10,
              "solidity": 0.2
             }
            },
            "type": "histogram"
           }
          ],
          "histogram2d": [
           {
            "colorbar": {
             "outlinewidth": 0,
             "ticks": ""
            },
            "colorscale": [
             [
              0,
              "#0d0887"
             ],
             [
              0.1111111111111111,
              "#46039f"
             ],
             [
              0.2222222222222222,
              "#7201a8"
             ],
             [
              0.3333333333333333,
              "#9c179e"
             ],
             [
              0.4444444444444444,
              "#bd3786"
             ],
             [
              0.5555555555555556,
              "#d8576b"
             ],
             [
              0.6666666666666666,
              "#ed7953"
             ],
             [
              0.7777777777777778,
              "#fb9f3a"
             ],
             [
              0.8888888888888888,
              "#fdca26"
             ],
             [
              1,
              "#f0f921"
             ]
            ],
            "type": "histogram2d"
           }
          ],
          "histogram2dcontour": [
           {
            "colorbar": {
             "outlinewidth": 0,
             "ticks": ""
            },
            "colorscale": [
             [
              0,
              "#0d0887"
             ],
             [
              0.1111111111111111,
              "#46039f"
             ],
             [
              0.2222222222222222,
              "#7201a8"
             ],
             [
              0.3333333333333333,
              "#9c179e"
             ],
             [
              0.4444444444444444,
              "#bd3786"
             ],
             [
              0.5555555555555556,
              "#d8576b"
             ],
             [
              0.6666666666666666,
              "#ed7953"
             ],
             [
              0.7777777777777778,
              "#fb9f3a"
             ],
             [
              0.8888888888888888,
              "#fdca26"
             ],
             [
              1,
              "#f0f921"
             ]
            ],
            "type": "histogram2dcontour"
           }
          ],
          "mesh3d": [
           {
            "colorbar": {
             "outlinewidth": 0,
             "ticks": ""
            },
            "type": "mesh3d"
           }
          ],
          "parcoords": [
           {
            "line": {
             "colorbar": {
              "outlinewidth": 0,
              "ticks": ""
             }
            },
            "type": "parcoords"
           }
          ],
          "pie": [
           {
            "automargin": true,
            "type": "pie"
           }
          ],
          "scatter": [
           {
            "fillpattern": {
             "fillmode": "overlay",
             "size": 10,
             "solidity": 0.2
            },
            "type": "scatter"
           }
          ],
          "scatter3d": [
           {
            "line": {
             "colorbar": {
              "outlinewidth": 0,
              "ticks": ""
             }
            },
            "marker": {
             "colorbar": {
              "outlinewidth": 0,
              "ticks": ""
             }
            },
            "type": "scatter3d"
           }
          ],
          "scattercarpet": [
           {
            "marker": {
             "colorbar": {
              "outlinewidth": 0,
              "ticks": ""
             }
            },
            "type": "scattercarpet"
           }
          ],
          "scattergeo": [
           {
            "marker": {
             "colorbar": {
              "outlinewidth": 0,
              "ticks": ""
             }
            },
            "type": "scattergeo"
           }
          ],
          "scattergl": [
           {
            "marker": {
             "colorbar": {
              "outlinewidth": 0,
              "ticks": ""
             }
            },
            "type": "scattergl"
           }
          ],
          "scattermapbox": [
           {
            "marker": {
             "colorbar": {
              "outlinewidth": 0,
              "ticks": ""
             }
            },
            "type": "scattermapbox"
           }
          ],
          "scatterpolar": [
           {
            "marker": {
             "colorbar": {
              "outlinewidth": 0,
              "ticks": ""
             }
            },
            "type": "scatterpolar"
           }
          ],
          "scatterpolargl": [
           {
            "marker": {
             "colorbar": {
              "outlinewidth": 0,
              "ticks": ""
             }
            },
            "type": "scatterpolargl"
           }
          ],
          "scatterternary": [
           {
            "marker": {
             "colorbar": {
              "outlinewidth": 0,
              "ticks": ""
             }
            },
            "type": "scatterternary"
           }
          ],
          "surface": [
           {
            "colorbar": {
             "outlinewidth": 0,
             "ticks": ""
            },
            "colorscale": [
             [
              0,
              "#0d0887"
             ],
             [
              0.1111111111111111,
              "#46039f"
             ],
             [
              0.2222222222222222,
              "#7201a8"
             ],
             [
              0.3333333333333333,
              "#9c179e"
             ],
             [
              0.4444444444444444,
              "#bd3786"
             ],
             [
              0.5555555555555556,
              "#d8576b"
             ],
             [
              0.6666666666666666,
              "#ed7953"
             ],
             [
              0.7777777777777778,
              "#fb9f3a"
             ],
             [
              0.8888888888888888,
              "#fdca26"
             ],
             [
              1,
              "#f0f921"
             ]
            ],
            "type": "surface"
           }
          ],
          "table": [
           {
            "cells": {
             "fill": {
              "color": "#EBF0F8"
             },
             "line": {
              "color": "white"
             }
            },
            "header": {
             "fill": {
              "color": "#C8D4E3"
             },
             "line": {
              "color": "white"
             }
            },
            "type": "table"
           }
          ]
         },
         "layout": {
          "annotationdefaults": {
           "arrowcolor": "#2a3f5f",
           "arrowhead": 0,
           "arrowwidth": 1
          },
          "autotypenumbers": "strict",
          "coloraxis": {
           "colorbar": {
            "outlinewidth": 0,
            "ticks": ""
           }
          },
          "colorscale": {
           "diverging": [
            [
             0,
             "#8e0152"
            ],
            [
             0.1,
             "#c51b7d"
            ],
            [
             0.2,
             "#de77ae"
            ],
            [
             0.3,
             "#f1b6da"
            ],
            [
             0.4,
             "#fde0ef"
            ],
            [
             0.5,
             "#f7f7f7"
            ],
            [
             0.6,
             "#e6f5d0"
            ],
            [
             0.7,
             "#b8e186"
            ],
            [
             0.8,
             "#7fbc41"
            ],
            [
             0.9,
             "#4d9221"
            ],
            [
             1,
             "#276419"
            ]
           ],
           "sequential": [
            [
             0,
             "#0d0887"
            ],
            [
             0.1111111111111111,
             "#46039f"
            ],
            [
             0.2222222222222222,
             "#7201a8"
            ],
            [
             0.3333333333333333,
             "#9c179e"
            ],
            [
             0.4444444444444444,
             "#bd3786"
            ],
            [
             0.5555555555555556,
             "#d8576b"
            ],
            [
             0.6666666666666666,
             "#ed7953"
            ],
            [
             0.7777777777777778,
             "#fb9f3a"
            ],
            [
             0.8888888888888888,
             "#fdca26"
            ],
            [
             1,
             "#f0f921"
            ]
           ],
           "sequentialminus": [
            [
             0,
             "#0d0887"
            ],
            [
             0.1111111111111111,
             "#46039f"
            ],
            [
             0.2222222222222222,
             "#7201a8"
            ],
            [
             0.3333333333333333,
             "#9c179e"
            ],
            [
             0.4444444444444444,
             "#bd3786"
            ],
            [
             0.5555555555555556,
             "#d8576b"
            ],
            [
             0.6666666666666666,
             "#ed7953"
            ],
            [
             0.7777777777777778,
             "#fb9f3a"
            ],
            [
             0.8888888888888888,
             "#fdca26"
            ],
            [
             1,
             "#f0f921"
            ]
           ]
          },
          "colorway": [
           "#636efa",
           "#EF553B",
           "#00cc96",
           "#ab63fa",
           "#FFA15A",
           "#19d3f3",
           "#FF6692",
           "#B6E880",
           "#FF97FF",
           "#FECB52"
          ],
          "font": {
           "color": "#2a3f5f"
          },
          "geo": {
           "bgcolor": "white",
           "lakecolor": "white",
           "landcolor": "#E5ECF6",
           "showlakes": true,
           "showland": true,
           "subunitcolor": "white"
          },
          "hoverlabel": {
           "align": "left"
          },
          "hovermode": "closest",
          "mapbox": {
           "style": "light"
          },
          "paper_bgcolor": "white",
          "plot_bgcolor": "#E5ECF6",
          "polar": {
           "angularaxis": {
            "gridcolor": "white",
            "linecolor": "white",
            "ticks": ""
           },
           "bgcolor": "#E5ECF6",
           "radialaxis": {
            "gridcolor": "white",
            "linecolor": "white",
            "ticks": ""
           }
          },
          "scene": {
           "xaxis": {
            "backgroundcolor": "#E5ECF6",
            "gridcolor": "white",
            "gridwidth": 2,
            "linecolor": "white",
            "showbackground": true,
            "ticks": "",
            "zerolinecolor": "white"
           },
           "yaxis": {
            "backgroundcolor": "#E5ECF6",
            "gridcolor": "white",
            "gridwidth": 2,
            "linecolor": "white",
            "showbackground": true,
            "ticks": "",
            "zerolinecolor": "white"
           },
           "zaxis": {
            "backgroundcolor": "#E5ECF6",
            "gridcolor": "white",
            "gridwidth": 2,
            "linecolor": "white",
            "showbackground": true,
            "ticks": "",
            "zerolinecolor": "white"
           }
          },
          "shapedefaults": {
           "line": {
            "color": "#2a3f5f"
           }
          },
          "ternary": {
           "aaxis": {
            "gridcolor": "white",
            "linecolor": "white",
            "ticks": ""
           },
           "baxis": {
            "gridcolor": "white",
            "linecolor": "white",
            "ticks": ""
           },
           "bgcolor": "#E5ECF6",
           "caxis": {
            "gridcolor": "white",
            "linecolor": "white",
            "ticks": ""
           }
          },
          "title": {
           "x": 0.05
          },
          "xaxis": {
           "automargin": true,
           "gridcolor": "white",
           "linecolor": "white",
           "ticks": "",
           "title": {
            "standoff": 15
           },
           "zerolinecolor": "white",
           "zerolinewidth": 2
          },
          "yaxis": {
           "automargin": true,
           "gridcolor": "white",
           "linecolor": "white",
           "ticks": "",
           "title": {
            "standoff": 15
           },
           "zerolinecolor": "white",
           "zerolinewidth": 2
          }
         }
        },
        "title": {
         "text": "Number of tracks per year"
        },
        "xaxis": {
         "anchor": "y",
         "domain": [
          0,
          1
         ],
         "title": {
          "text": "year"
         }
        },
        "yaxis": {
         "anchor": "x",
         "domain": [
          0,
          1
         ],
         "title": {
          "text": "# tracks"
         }
        }
       }
      }
     },
     "metadata": {},
     "output_type": "display_data"
    }
   ],
   "source": [
    "import plotly.express as px\n",
    "\n",
    "# year - number of ids (i.e. tracks) per year. This should be plotted. (tracks by year)\n",
    "track_per_year_df = song_lyrics_full_df.groupby('year').agg({'id':'count'}).reset_index()\n",
    "\n",
    "fig = px.line(track_per_year_df , x = \"year\", y = \"id\", title = \"Number of tracks per year\",labels = {\"id\":\"# tracks\"})\n",
    "fig.show()"
   ]
  },
  {
   "cell_type": "markdown",
   "metadata": {},
   "source": [
    "The evolution of popular music is said to have began in the late 19th century in *Tin Pan Alley*, an area of New York. So perhaps filtering the data from 1880 will allow us to chart the rise in tracks more closely.\n",
    "\n",
    "<!-- https://open.lib.umn.edu/mediaandculture/chapter/6-2-the-evolution-of-popular-music/ -->"
   ]
  },
  {
   "cell_type": "code",
   "execution_count": 25,
   "metadata": {},
   "outputs": [
    {
     "data": {
      "application/vnd.plotly.v1+json": {
       "config": {
        "plotlyServerURL": "https://plot.ly"
       },
       "data": [
        {
         "hovertemplate": "year=%{x}<br># tracks=%{y}<extra></extra>",
         "legendgroup": "",
         "line": {
          "color": "#636efa",
          "dash": "solid"
         },
         "marker": {
          "symbol": "circle"
         },
         "mode": "lines",
         "name": "",
         "orientation": "v",
         "showlegend": false,
         "type": "scatter",
         "x": [
          1880,
          1881,
          1882,
          1883,
          1884,
          1885,
          1886,
          1887,
          1888,
          1889,
          1890,
          1891,
          1892,
          1893,
          1894,
          1895,
          1896,
          1897,
          1898,
          1899,
          1900,
          1901,
          1902,
          1903,
          1904,
          1905,
          1906,
          1907,
          1908,
          1909,
          1910,
          1911,
          1912,
          1913,
          1914,
          1915,
          1916,
          1917,
          1918,
          1919,
          1920,
          1921,
          1922,
          1923,
          1924,
          1925,
          1926,
          1927,
          1928,
          1929,
          1930,
          1931,
          1932,
          1933,
          1934,
          1935,
          1936,
          1937,
          1938,
          1939,
          1940,
          1941,
          1942,
          1943,
          1944,
          1945,
          1946,
          1947,
          1948,
          1949,
          1950,
          1951,
          1952,
          1953,
          1954,
          1955,
          1956,
          1957,
          1958,
          1959,
          1960,
          1961,
          1962,
          1963,
          1964,
          1965,
          1966,
          1967,
          1968,
          1969,
          1970,
          1971,
          1972,
          1973,
          1974,
          1975,
          1976,
          1977,
          1978,
          1979,
          1980,
          1981,
          1982,
          1983,
          1984,
          1985,
          1986,
          1987,
          1988,
          1989,
          1990,
          1991,
          1992,
          1993,
          1994,
          1995,
          1996,
          1997,
          1998,
          1999,
          2000,
          2001,
          2002,
          2003,
          2004,
          2005,
          2006,
          2007,
          2008,
          2009,
          2010,
          2011,
          2012,
          2013,
          2014,
          2015,
          2016,
          2017,
          2018,
          2019,
          2020,
          2021,
          2022,
          2023,
          2024,
          2027,
          2057,
          2100
         ],
         "xaxis": "x",
         "y": [
          98,
          156,
          312,
          213,
          74,
          216,
          236,
          173,
          97,
          116,
          169,
          205,
          125,
          45,
          87,
          97,
          459,
          228,
          118,
          213,
          174,
          125,
          128,
          181,
          241,
          130,
          321,
          184,
          164,
          131,
          219,
          145,
          128,
          330,
          305,
          370,
          158,
          307,
          103,
          103,
          395,
          113,
          398,
          287,
          253,
          252,
          234,
          247,
          334,
          276,
          353,
          193,
          190,
          181,
          190,
          176,
          234,
          288,
          169,
          308,
          209,
          189,
          182,
          159,
          139,
          220,
          187,
          237,
          195,
          337,
          439,
          467,
          479,
          508,
          778,
          1003,
          1529,
          2108,
          2317,
          2836,
          2783,
          3155,
          3487,
          3928,
          4563,
          5597,
          6159,
          7089,
          7795,
          8257,
          8621,
          8783,
          8843,
          9115,
          8581,
          9029,
          8841,
          9530,
          9890,
          10858,
          11368,
          12191,
          12549,
          12462,
          12831,
          13373,
          13989,
          15213,
          16207,
          18250,
          18912,
          21255,
          22705,
          26572,
          30224,
          32791,
          36419,
          38309,
          41110,
          46643,
          47895,
          51457,
          54637,
          60560,
          65025,
          69161,
          73423,
          74106,
          78533,
          82278,
          88098,
          107785,
          127490,
          189918,
          185722,
          468434,
          245911,
          315920,
          404955,
          484305,
          576723,
          524480,
          116282,
          519,
          37,
          1,
          1,
          1
         ],
         "yaxis": "y"
        }
       ],
       "layout": {
        "legend": {
         "tracegroupgap": 0
        },
        "template": {
         "data": {
          "bar": [
           {
            "error_x": {
             "color": "#2a3f5f"
            },
            "error_y": {
             "color": "#2a3f5f"
            },
            "marker": {
             "line": {
              "color": "#E5ECF6",
              "width": 0.5
             },
             "pattern": {
              "fillmode": "overlay",
              "size": 10,
              "solidity": 0.2
             }
            },
            "type": "bar"
           }
          ],
          "barpolar": [
           {
            "marker": {
             "line": {
              "color": "#E5ECF6",
              "width": 0.5
             },
             "pattern": {
              "fillmode": "overlay",
              "size": 10,
              "solidity": 0.2
             }
            },
            "type": "barpolar"
           }
          ],
          "carpet": [
           {
            "aaxis": {
             "endlinecolor": "#2a3f5f",
             "gridcolor": "white",
             "linecolor": "white",
             "minorgridcolor": "white",
             "startlinecolor": "#2a3f5f"
            },
            "baxis": {
             "endlinecolor": "#2a3f5f",
             "gridcolor": "white",
             "linecolor": "white",
             "minorgridcolor": "white",
             "startlinecolor": "#2a3f5f"
            },
            "type": "carpet"
           }
          ],
          "choropleth": [
           {
            "colorbar": {
             "outlinewidth": 0,
             "ticks": ""
            },
            "type": "choropleth"
           }
          ],
          "contour": [
           {
            "colorbar": {
             "outlinewidth": 0,
             "ticks": ""
            },
            "colorscale": [
             [
              0,
              "#0d0887"
             ],
             [
              0.1111111111111111,
              "#46039f"
             ],
             [
              0.2222222222222222,
              "#7201a8"
             ],
             [
              0.3333333333333333,
              "#9c179e"
             ],
             [
              0.4444444444444444,
              "#bd3786"
             ],
             [
              0.5555555555555556,
              "#d8576b"
             ],
             [
              0.6666666666666666,
              "#ed7953"
             ],
             [
              0.7777777777777778,
              "#fb9f3a"
             ],
             [
              0.8888888888888888,
              "#fdca26"
             ],
             [
              1,
              "#f0f921"
             ]
            ],
            "type": "contour"
           }
          ],
          "contourcarpet": [
           {
            "colorbar": {
             "outlinewidth": 0,
             "ticks": ""
            },
            "type": "contourcarpet"
           }
          ],
          "heatmap": [
           {
            "colorbar": {
             "outlinewidth": 0,
             "ticks": ""
            },
            "colorscale": [
             [
              0,
              "#0d0887"
             ],
             [
              0.1111111111111111,
              "#46039f"
             ],
             [
              0.2222222222222222,
              "#7201a8"
             ],
             [
              0.3333333333333333,
              "#9c179e"
             ],
             [
              0.4444444444444444,
              "#bd3786"
             ],
             [
              0.5555555555555556,
              "#d8576b"
             ],
             [
              0.6666666666666666,
              "#ed7953"
             ],
             [
              0.7777777777777778,
              "#fb9f3a"
             ],
             [
              0.8888888888888888,
              "#fdca26"
             ],
             [
              1,
              "#f0f921"
             ]
            ],
            "type": "heatmap"
           }
          ],
          "heatmapgl": [
           {
            "colorbar": {
             "outlinewidth": 0,
             "ticks": ""
            },
            "colorscale": [
             [
              0,
              "#0d0887"
             ],
             [
              0.1111111111111111,
              "#46039f"
             ],
             [
              0.2222222222222222,
              "#7201a8"
             ],
             [
              0.3333333333333333,
              "#9c179e"
             ],
             [
              0.4444444444444444,
              "#bd3786"
             ],
             [
              0.5555555555555556,
              "#d8576b"
             ],
             [
              0.6666666666666666,
              "#ed7953"
             ],
             [
              0.7777777777777778,
              "#fb9f3a"
             ],
             [
              0.8888888888888888,
              "#fdca26"
             ],
             [
              1,
              "#f0f921"
             ]
            ],
            "type": "heatmapgl"
           }
          ],
          "histogram": [
           {
            "marker": {
             "pattern": {
              "fillmode": "overlay",
              "size": 10,
              "solidity": 0.2
             }
            },
            "type": "histogram"
           }
          ],
          "histogram2d": [
           {
            "colorbar": {
             "outlinewidth": 0,
             "ticks": ""
            },
            "colorscale": [
             [
              0,
              "#0d0887"
             ],
             [
              0.1111111111111111,
              "#46039f"
             ],
             [
              0.2222222222222222,
              "#7201a8"
             ],
             [
              0.3333333333333333,
              "#9c179e"
             ],
             [
              0.4444444444444444,
              "#bd3786"
             ],
             [
              0.5555555555555556,
              "#d8576b"
             ],
             [
              0.6666666666666666,
              "#ed7953"
             ],
             [
              0.7777777777777778,
              "#fb9f3a"
             ],
             [
              0.8888888888888888,
              "#fdca26"
             ],
             [
              1,
              "#f0f921"
             ]
            ],
            "type": "histogram2d"
           }
          ],
          "histogram2dcontour": [
           {
            "colorbar": {
             "outlinewidth": 0,
             "ticks": ""
            },
            "colorscale": [
             [
              0,
              "#0d0887"
             ],
             [
              0.1111111111111111,
              "#46039f"
             ],
             [
              0.2222222222222222,
              "#7201a8"
             ],
             [
              0.3333333333333333,
              "#9c179e"
             ],
             [
              0.4444444444444444,
              "#bd3786"
             ],
             [
              0.5555555555555556,
              "#d8576b"
             ],
             [
              0.6666666666666666,
              "#ed7953"
             ],
             [
              0.7777777777777778,
              "#fb9f3a"
             ],
             [
              0.8888888888888888,
              "#fdca26"
             ],
             [
              1,
              "#f0f921"
             ]
            ],
            "type": "histogram2dcontour"
           }
          ],
          "mesh3d": [
           {
            "colorbar": {
             "outlinewidth": 0,
             "ticks": ""
            },
            "type": "mesh3d"
           }
          ],
          "parcoords": [
           {
            "line": {
             "colorbar": {
              "outlinewidth": 0,
              "ticks": ""
             }
            },
            "type": "parcoords"
           }
          ],
          "pie": [
           {
            "automargin": true,
            "type": "pie"
           }
          ],
          "scatter": [
           {
            "fillpattern": {
             "fillmode": "overlay",
             "size": 10,
             "solidity": 0.2
            },
            "type": "scatter"
           }
          ],
          "scatter3d": [
           {
            "line": {
             "colorbar": {
              "outlinewidth": 0,
              "ticks": ""
             }
            },
            "marker": {
             "colorbar": {
              "outlinewidth": 0,
              "ticks": ""
             }
            },
            "type": "scatter3d"
           }
          ],
          "scattercarpet": [
           {
            "marker": {
             "colorbar": {
              "outlinewidth": 0,
              "ticks": ""
             }
            },
            "type": "scattercarpet"
           }
          ],
          "scattergeo": [
           {
            "marker": {
             "colorbar": {
              "outlinewidth": 0,
              "ticks": ""
             }
            },
            "type": "scattergeo"
           }
          ],
          "scattergl": [
           {
            "marker": {
             "colorbar": {
              "outlinewidth": 0,
              "ticks": ""
             }
            },
            "type": "scattergl"
           }
          ],
          "scattermapbox": [
           {
            "marker": {
             "colorbar": {
              "outlinewidth": 0,
              "ticks": ""
             }
            },
            "type": "scattermapbox"
           }
          ],
          "scatterpolar": [
           {
            "marker": {
             "colorbar": {
              "outlinewidth": 0,
              "ticks": ""
             }
            },
            "type": "scatterpolar"
           }
          ],
          "scatterpolargl": [
           {
            "marker": {
             "colorbar": {
              "outlinewidth": 0,
              "ticks": ""
             }
            },
            "type": "scatterpolargl"
           }
          ],
          "scatterternary": [
           {
            "marker": {
             "colorbar": {
              "outlinewidth": 0,
              "ticks": ""
             }
            },
            "type": "scatterternary"
           }
          ],
          "surface": [
           {
            "colorbar": {
             "outlinewidth": 0,
             "ticks": ""
            },
            "colorscale": [
             [
              0,
              "#0d0887"
             ],
             [
              0.1111111111111111,
              "#46039f"
             ],
             [
              0.2222222222222222,
              "#7201a8"
             ],
             [
              0.3333333333333333,
              "#9c179e"
             ],
             [
              0.4444444444444444,
              "#bd3786"
             ],
             [
              0.5555555555555556,
              "#d8576b"
             ],
             [
              0.6666666666666666,
              "#ed7953"
             ],
             [
              0.7777777777777778,
              "#fb9f3a"
             ],
             [
              0.8888888888888888,
              "#fdca26"
             ],
             [
              1,
              "#f0f921"
             ]
            ],
            "type": "surface"
           }
          ],
          "table": [
           {
            "cells": {
             "fill": {
              "color": "#EBF0F8"
             },
             "line": {
              "color": "white"
             }
            },
            "header": {
             "fill": {
              "color": "#C8D4E3"
             },
             "line": {
              "color": "white"
             }
            },
            "type": "table"
           }
          ]
         },
         "layout": {
          "annotationdefaults": {
           "arrowcolor": "#2a3f5f",
           "arrowhead": 0,
           "arrowwidth": 1
          },
          "autotypenumbers": "strict",
          "coloraxis": {
           "colorbar": {
            "outlinewidth": 0,
            "ticks": ""
           }
          },
          "colorscale": {
           "diverging": [
            [
             0,
             "#8e0152"
            ],
            [
             0.1,
             "#c51b7d"
            ],
            [
             0.2,
             "#de77ae"
            ],
            [
             0.3,
             "#f1b6da"
            ],
            [
             0.4,
             "#fde0ef"
            ],
            [
             0.5,
             "#f7f7f7"
            ],
            [
             0.6,
             "#e6f5d0"
            ],
            [
             0.7,
             "#b8e186"
            ],
            [
             0.8,
             "#7fbc41"
            ],
            [
             0.9,
             "#4d9221"
            ],
            [
             1,
             "#276419"
            ]
           ],
           "sequential": [
            [
             0,
             "#0d0887"
            ],
            [
             0.1111111111111111,
             "#46039f"
            ],
            [
             0.2222222222222222,
             "#7201a8"
            ],
            [
             0.3333333333333333,
             "#9c179e"
            ],
            [
             0.4444444444444444,
             "#bd3786"
            ],
            [
             0.5555555555555556,
             "#d8576b"
            ],
            [
             0.6666666666666666,
             "#ed7953"
            ],
            [
             0.7777777777777778,
             "#fb9f3a"
            ],
            [
             0.8888888888888888,
             "#fdca26"
            ],
            [
             1,
             "#f0f921"
            ]
           ],
           "sequentialminus": [
            [
             0,
             "#0d0887"
            ],
            [
             0.1111111111111111,
             "#46039f"
            ],
            [
             0.2222222222222222,
             "#7201a8"
            ],
            [
             0.3333333333333333,
             "#9c179e"
            ],
            [
             0.4444444444444444,
             "#bd3786"
            ],
            [
             0.5555555555555556,
             "#d8576b"
            ],
            [
             0.6666666666666666,
             "#ed7953"
            ],
            [
             0.7777777777777778,
             "#fb9f3a"
            ],
            [
             0.8888888888888888,
             "#fdca26"
            ],
            [
             1,
             "#f0f921"
            ]
           ]
          },
          "colorway": [
           "#636efa",
           "#EF553B",
           "#00cc96",
           "#ab63fa",
           "#FFA15A",
           "#19d3f3",
           "#FF6692",
           "#B6E880",
           "#FF97FF",
           "#FECB52"
          ],
          "font": {
           "color": "#2a3f5f"
          },
          "geo": {
           "bgcolor": "white",
           "lakecolor": "white",
           "landcolor": "#E5ECF6",
           "showlakes": true,
           "showland": true,
           "subunitcolor": "white"
          },
          "hoverlabel": {
           "align": "left"
          },
          "hovermode": "closest",
          "mapbox": {
           "style": "light"
          },
          "paper_bgcolor": "white",
          "plot_bgcolor": "#E5ECF6",
          "polar": {
           "angularaxis": {
            "gridcolor": "white",
            "linecolor": "white",
            "ticks": ""
           },
           "bgcolor": "#E5ECF6",
           "radialaxis": {
            "gridcolor": "white",
            "linecolor": "white",
            "ticks": ""
           }
          },
          "scene": {
           "xaxis": {
            "backgroundcolor": "#E5ECF6",
            "gridcolor": "white",
            "gridwidth": 2,
            "linecolor": "white",
            "showbackground": true,
            "ticks": "",
            "zerolinecolor": "white"
           },
           "yaxis": {
            "backgroundcolor": "#E5ECF6",
            "gridcolor": "white",
            "gridwidth": 2,
            "linecolor": "white",
            "showbackground": true,
            "ticks": "",
            "zerolinecolor": "white"
           },
           "zaxis": {
            "backgroundcolor": "#E5ECF6",
            "gridcolor": "white",
            "gridwidth": 2,
            "linecolor": "white",
            "showbackground": true,
            "ticks": "",
            "zerolinecolor": "white"
           }
          },
          "shapedefaults": {
           "line": {
            "color": "#2a3f5f"
           }
          },
          "ternary": {
           "aaxis": {
            "gridcolor": "white",
            "linecolor": "white",
            "ticks": ""
           },
           "baxis": {
            "gridcolor": "white",
            "linecolor": "white",
            "ticks": ""
           },
           "bgcolor": "#E5ECF6",
           "caxis": {
            "gridcolor": "white",
            "linecolor": "white",
            "ticks": ""
           }
          },
          "title": {
           "x": 0.05
          },
          "xaxis": {
           "automargin": true,
           "gridcolor": "white",
           "linecolor": "white",
           "ticks": "",
           "title": {
            "standoff": 15
           },
           "zerolinecolor": "white",
           "zerolinewidth": 2
          },
          "yaxis": {
           "automargin": true,
           "gridcolor": "white",
           "linecolor": "white",
           "ticks": "",
           "title": {
            "standoff": 15
           },
           "zerolinecolor": "white",
           "zerolinewidth": 2
          }
         }
        },
        "title": {
         "text": "Number of tracks per year"
        },
        "xaxis": {
         "anchor": "y",
         "domain": [
          0,
          1
         ],
         "title": {
          "text": "year"
         }
        },
        "yaxis": {
         "anchor": "x",
         "domain": [
          0,
          1
         ],
         "title": {
          "text": "# tracks"
         }
        }
       }
      }
     },
     "metadata": {},
     "output_type": "display_data"
    }
   ],
   "source": [
    "# year - number of ids (i.e. tracks) per year. This should be plotted. (tracks by year)\n",
    "song_lyrics_from_1880_df = song_lyrics_full_df[(song_lyrics_full_df['year'] >= 1880)]\n",
    "track_per_year_from_1880_df  = song_lyrics_from_1880_df.groupby('year').agg({'id':'count'}).reset_index()\n",
    "\n",
    "fig = px.line(track_per_year_from_1880_df , x = \"year\", y = \"id\", title = \"Number of tracks per year\", labels = {\"id\":\"# tracks\"})\n",
    "fig.show()"
   ]
  },
  {
   "cell_type": "markdown",
   "metadata": {},
   "source": [
    "The rapid rise reaches its peak in 2020 with over 575,000 tracks. There does seem to be a noticeable dip in number of tracks in 2016. This will require further investigation."
   ]
  },
  {
   "cell_type": "markdown",
   "metadata": {},
   "source": [
    "### Genre\n",
    "\n",
    "The most popular genre of music is, understandably, pop. Rap is not too far behind, which is understandable as Genius (orginally Rap Genius) initally launched with a focus on hip-hop."
   ]
  },
  {
   "cell_type": "code",
   "execution_count": 26,
   "metadata": {},
   "outputs": [
    {
     "data": {
      "text/html": [
       "<div>\n",
       "<style scoped>\n",
       "    .dataframe tbody tr th:only-of-type {\n",
       "        vertical-align: middle;\n",
       "    }\n",
       "\n",
       "    .dataframe tbody tr th {\n",
       "        vertical-align: top;\n",
       "    }\n",
       "\n",
       "    .dataframe thead th {\n",
       "        text-align: right;\n",
       "    }\n",
       "</style>\n",
       "<table border=\"1\" class=\"dataframe\">\n",
       "  <thead>\n",
       "    <tr style=\"text-align: right;\">\n",
       "      <th></th>\n",
       "      <th>tag</th>\n",
       "      <th>number of tracks</th>\n",
       "    </tr>\n",
       "  </thead>\n",
       "  <tbody>\n",
       "    <tr>\n",
       "      <th>2</th>\n",
       "      <td>pop</td>\n",
       "      <td>2138587</td>\n",
       "    </tr>\n",
       "    <tr>\n",
       "      <th>3</th>\n",
       "      <td>rap</td>\n",
       "      <td>1724816</td>\n",
       "    </tr>\n",
       "    <tr>\n",
       "      <th>5</th>\n",
       "      <td>rock</td>\n",
       "      <td>793220</td>\n",
       "    </tr>\n",
       "    <tr>\n",
       "      <th>4</th>\n",
       "      <td>rb</td>\n",
       "      <td>196462</td>\n",
       "    </tr>\n",
       "    <tr>\n",
       "      <th>1</th>\n",
       "      <td>misc</td>\n",
       "      <td>181455</td>\n",
       "    </tr>\n",
       "    <tr>\n",
       "      <th>0</th>\n",
       "      <td>country</td>\n",
       "      <td>100316</td>\n",
       "    </tr>\n",
       "  </tbody>\n",
       "</table>\n",
       "</div>"
      ],
      "text/plain": [
       "       tag  number of tracks\n",
       "2      pop           2138587\n",
       "3      rap           1724816\n",
       "5     rock            793220\n",
       "4       rb            196462\n",
       "1     misc            181455\n",
       "0  country            100316"
      ]
     },
     "metadata": {},
     "output_type": "display_data"
    }
   ],
   "source": [
    "# tag/genre - simple table, I imagine it's dominate by pop and rock (popular genre)\n",
    "popular_genre_df = song_lyrics_full_df.groupby('tag').agg({'id':'count'}).reset_index()\n",
    "popular_genre_df = popular_genre_df.sort_values(by = 'id',ascending = False)\n",
    "popular_genre_df = popular_genre_df.rename(columns = {\"id\" : \"number of tracks\"})\n",
    "display(popular_genre_df) "
   ]
  },
  {
   "cell_type": "markdown",
   "metadata": {},
   "source": [
    "### What is *misc*?\n",
    "There appears to be a genre called *misc*. On closer inspection, it contains poems, books and bible passages. Given that these are not song lyrics, these will also need to be removed before our analysis and modelling.\n",
    "\n",
    "<!--https://genius.com/Genius-tags-music-genres-countries-languages-annotated -->"
   ]
  },
  {
   "cell_type": "code",
   "execution_count": 27,
   "metadata": {},
   "outputs": [
    {
     "data": {
      "text/html": [
       "<div>\n",
       "<style scoped>\n",
       "    .dataframe tbody tr th:only-of-type {\n",
       "        vertical-align: middle;\n",
       "    }\n",
       "\n",
       "    .dataframe tbody tr th {\n",
       "        vertical-align: top;\n",
       "    }\n",
       "\n",
       "    .dataframe thead th {\n",
       "        text-align: right;\n",
       "    }\n",
       "</style>\n",
       "<table border=\"1\" class=\"dataframe\">\n",
       "  <thead>\n",
       "    <tr style=\"text-align: right;\">\n",
       "      <th></th>\n",
       "      <th>title</th>\n",
       "      <th>tag</th>\n",
       "      <th>artist</th>\n",
       "      <th>year</th>\n",
       "      <th>views</th>\n",
       "      <th>features</th>\n",
       "      <th>lyrics</th>\n",
       "      <th>id</th>\n",
       "      <th>language_cld3</th>\n",
       "      <th>language_ft</th>\n",
       "      <th>language</th>\n",
       "    </tr>\n",
       "  </thead>\n",
       "  <tbody>\n",
       "    <tr>\n",
       "      <th>683</th>\n",
       "      <td>Penny for a Thought</td>\n",
       "      <td>misc</td>\n",
       "      <td>Saul Williams</td>\n",
       "      <td>2001</td>\n",
       "      <td>6118</td>\n",
       "      <td>{}</td>\n",
       "      <td>Cancel the apocalypse!\\nCartons of the milky w...</td>\n",
       "      <td>660</td>\n",
       "      <td>en</td>\n",
       "      <td>en</td>\n",
       "      <td>en</td>\n",
       "    </tr>\n",
       "    <tr>\n",
       "      <th>1322</th>\n",
       "      <td>John 1</td>\n",
       "      <td>misc</td>\n",
       "      <td>Holy Bible (KJV)</td>\n",
       "      <td>2017</td>\n",
       "      <td>3375</td>\n",
       "      <td>{}</td>\n",
       "      <td>John 1:1: In the beginning was the Word, and t...</td>\n",
       "      <td>1292</td>\n",
       "      <td>en</td>\n",
       "      <td>en</td>\n",
       "      <td>en</td>\n",
       "    </tr>\n",
       "    <tr>\n",
       "      <th>1323</th>\n",
       "      <td>John 2</td>\n",
       "      <td>misc</td>\n",
       "      <td>Holy Bible (KJV)</td>\n",
       "      <td>2017</td>\n",
       "      <td>983</td>\n",
       "      <td>{}</td>\n",
       "      <td>John 2:1: And the third day there was a marria...</td>\n",
       "      <td>1293</td>\n",
       "      <td>en</td>\n",
       "      <td>en</td>\n",
       "      <td>en</td>\n",
       "    </tr>\n",
       "    <tr>\n",
       "      <th>1324</th>\n",
       "      <td>John 3</td>\n",
       "      <td>misc</td>\n",
       "      <td>Holy Bible (KJV)</td>\n",
       "      <td>2017</td>\n",
       "      <td>2129</td>\n",
       "      <td>{}</td>\n",
       "      <td>John 3:1: There was a man of the Pharisees,\\nn...</td>\n",
       "      <td>1294</td>\n",
       "      <td>en</td>\n",
       "      <td>en</td>\n",
       "      <td>en</td>\n",
       "    </tr>\n",
       "    <tr>\n",
       "      <th>1383</th>\n",
       "      <td>Do Not Go Gentle Into That Good Night</td>\n",
       "      <td>misc</td>\n",
       "      <td>Dylan Thomas</td>\n",
       "      <td>1951</td>\n",
       "      <td>190091</td>\n",
       "      <td>{}</td>\n",
       "      <td>Do not go gentle into that good night.\\nOld ag...</td>\n",
       "      <td>1466</td>\n",
       "      <td>en</td>\n",
       "      <td>en</td>\n",
       "      <td>en</td>\n",
       "    </tr>\n",
       "    <tr>\n",
       "      <th>1392</th>\n",
       "      <td>The Second Coming</td>\n",
       "      <td>misc</td>\n",
       "      <td>William Butler Yeats</td>\n",
       "      <td>1920</td>\n",
       "      <td>103203</td>\n",
       "      <td>{}</td>\n",
       "      <td>Turning and turning in the widening gyre\\nThe ...</td>\n",
       "      <td>1467</td>\n",
       "      <td>en</td>\n",
       "      <td>en</td>\n",
       "      <td>en</td>\n",
       "    </tr>\n",
       "    <tr>\n",
       "      <th>1420</th>\n",
       "      <td>Her  It</td>\n",
       "      <td>misc</td>\n",
       "      <td>John Berryman</td>\n",
       "      <td>2010</td>\n",
       "      <td>356</td>\n",
       "      <td>{}</td>\n",
       "      <td>I fell in love with a girl\\nO and a gash\\nI'll...</td>\n",
       "      <td>1474</td>\n",
       "      <td>en</td>\n",
       "      <td>en</td>\n",
       "      <td>en</td>\n",
       "    </tr>\n",
       "    <tr>\n",
       "      <th>1472</th>\n",
       "      <td>Im Nobody Who Are You?</td>\n",
       "      <td>misc</td>\n",
       "      <td>Emily Dickinson</td>\n",
       "      <td>1891</td>\n",
       "      <td>37027</td>\n",
       "      <td>{}</td>\n",
       "      <td>I'm Nobody! Who are you?\\nAre you—Nobody—Too?\\...</td>\n",
       "      <td>1454</td>\n",
       "      <td>en</td>\n",
       "      <td>en</td>\n",
       "      <td>en</td>\n",
       "    </tr>\n",
       "    <tr>\n",
       "      <th>1481</th>\n",
       "      <td>Buffalo Bills</td>\n",
       "      <td>misc</td>\n",
       "      <td>E. E. Cummings</td>\n",
       "      <td>2010</td>\n",
       "      <td>9142</td>\n",
       "      <td>{}</td>\n",
       "      <td>Buffalo Bill's\\ndefunct\\n       who used to\\n ...</td>\n",
       "      <td>1462</td>\n",
       "      <td>en</td>\n",
       "      <td>en</td>\n",
       "      <td>en</td>\n",
       "    </tr>\n",
       "    <tr>\n",
       "      <th>1486</th>\n",
       "      <td>Ego-Tripping there may be a reason</td>\n",
       "      <td>misc</td>\n",
       "      <td>Nikki Giovanni</td>\n",
       "      <td>2010</td>\n",
       "      <td>149574</td>\n",
       "      <td>{}</td>\n",
       "      <td>I was born in the Congo\\nI walked to the Ferti...</td>\n",
       "      <td>1468</td>\n",
       "      <td>en</td>\n",
       "      <td>en</td>\n",
       "      <td>en</td>\n",
       "    </tr>\n",
       "  </tbody>\n",
       "</table>\n",
       "</div>"
      ],
      "text/plain": [
       "                                      title   tag                artist  year  \\\n",
       "683                     Penny for a Thought  misc         Saul Williams  2001   \n",
       "1322                                 John 1  misc      Holy Bible (KJV)  2017   \n",
       "1323                                 John 2  misc      Holy Bible (KJV)  2017   \n",
       "1324                                 John 3  misc      Holy Bible (KJV)  2017   \n",
       "1383  Do Not Go Gentle Into That Good Night  misc          Dylan Thomas  1951   \n",
       "1392                      The Second Coming  misc  William Butler Yeats  1920   \n",
       "1420                                Her  It  misc         John Berryman  2010   \n",
       "1472                 Im Nobody Who Are You?  misc       Emily Dickinson  1891   \n",
       "1481                          Buffalo Bills  misc        E. E. Cummings  2010   \n",
       "1486     Ego-Tripping there may be a reason  misc        Nikki Giovanni  2010   \n",
       "\n",
       "       views features                                             lyrics  \\\n",
       "683     6118       {}  Cancel the apocalypse!\\nCartons of the milky w...   \n",
       "1322    3375       {}  John 1:1: In the beginning was the Word, and t...   \n",
       "1323     983       {}  John 2:1: And the third day there was a marria...   \n",
       "1324    2129       {}  John 3:1: There was a man of the Pharisees,\\nn...   \n",
       "1383  190091       {}  Do not go gentle into that good night.\\nOld ag...   \n",
       "1392  103203       {}  Turning and turning in the widening gyre\\nThe ...   \n",
       "1420     356       {}  I fell in love with a girl\\nO and a gash\\nI'll...   \n",
       "1472   37027       {}  I'm Nobody! Who are you?\\nAre you—Nobody—Too?\\...   \n",
       "1481    9142       {}  Buffalo Bill's\\ndefunct\\n       who used to\\n ...   \n",
       "1486  149574       {}  I was born in the Congo\\nI walked to the Ferti...   \n",
       "\n",
       "        id language_cld3 language_ft language  \n",
       "683    660            en          en       en  \n",
       "1322  1292            en          en       en  \n",
       "1323  1293            en          en       en  \n",
       "1324  1294            en          en       en  \n",
       "1383  1466            en          en       en  \n",
       "1392  1467            en          en       en  \n",
       "1420  1474            en          en       en  \n",
       "1472  1454            en          en       en  \n",
       "1481  1462            en          en       en  \n",
       "1486  1468            en          en       en  "
      ]
     },
     "metadata": {},
     "output_type": "display_data"
    }
   ],
   "source": [
    "genre_misc_df = song_lyrics_full_df[(song_lyrics_full_df['tag'] == \"misc\")]\n",
    "genre_misc_df = genre_misc_df.head(10)\n",
    "\n",
    "display(genre_misc_df)"
   ]
  },
  {
   "cell_type": "markdown",
   "metadata": {},
   "source": [
    "### Artists\n",
    "\n",
    "When it comes to the number of tracks, there is only one artist in the top ten that is a musician/band - *The Grateful Dead* with over 2,100 tracks. The list is populated by *Genius translations*, the most popular being *Genius Romanizations* which enables people to pronounce lyrics phoentically.\n",
    "\n",
    "However, the list of artists is more familiar if we rank them by total views. One Genius translation survives, but *Drake* has the crown. As expected, the list is dominated by rap and hip-hop."
   ]
  },
  {
   "cell_type": "code",
   "execution_count": 28,
   "metadata": {},
   "outputs": [
    {
     "data": {
      "text/html": [
       "<div>\n",
       "<style scoped>\n",
       "    .dataframe tbody tr th:only-of-type {\n",
       "        vertical-align: middle;\n",
       "    }\n",
       "\n",
       "    .dataframe tbody tr th {\n",
       "        vertical-align: top;\n",
       "    }\n",
       "\n",
       "    .dataframe thead th {\n",
       "        text-align: right;\n",
       "    }\n",
       "</style>\n",
       "<table border=\"1\" class=\"dataframe\">\n",
       "  <thead>\n",
       "    <tr style=\"text-align: right;\">\n",
       "      <th></th>\n",
       "      <th>artist</th>\n",
       "      <th>number of tracks</th>\n",
       "      <th>rank</th>\n",
       "    </tr>\n",
       "  </thead>\n",
       "  <tbody>\n",
       "    <tr>\n",
       "      <th>212538</th>\n",
       "      <td>Genius Romanizations</td>\n",
       "      <td>16325</td>\n",
       "      <td>1.0</td>\n",
       "    </tr>\n",
       "    <tr>\n",
       "      <th>212480</th>\n",
       "      <td>Genius English Translations</td>\n",
       "      <td>13832</td>\n",
       "      <td>2.0</td>\n",
       "    </tr>\n",
       "    <tr>\n",
       "      <th>212464</th>\n",
       "      <td>Genius Brasil Tradues</td>\n",
       "      <td>8693</td>\n",
       "      <td>3.0</td>\n",
       "    </tr>\n",
       "    <tr>\n",
       "      <th>212560</th>\n",
       "      <td>Genius Traducciones al Espaol</td>\n",
       "      <td>7083</td>\n",
       "      <td>4.0</td>\n",
       "    </tr>\n",
       "    <tr>\n",
       "      <th>212563</th>\n",
       "      <td>Genius Traductions Franaises</td>\n",
       "      <td>4680</td>\n",
       "      <td>5.0</td>\n",
       "    </tr>\n",
       "    <tr>\n",
       "      <th>212567</th>\n",
       "      <td>Genius Trke eviri</td>\n",
       "      <td>3941</td>\n",
       "      <td>6.0</td>\n",
       "    </tr>\n",
       "    <tr>\n",
       "      <th>212542</th>\n",
       "      <td>Genius Russian Translations ( )</td>\n",
       "      <td>3069</td>\n",
       "      <td>7.0</td>\n",
       "    </tr>\n",
       "    <tr>\n",
       "      <th>557805</th>\n",
       "      <td>The Grateful Dead</td>\n",
       "      <td>2121</td>\n",
       "      <td>8.0</td>\n",
       "    </tr>\n",
       "    <tr>\n",
       "      <th>212473</th>\n",
       "      <td>Genius Deutsche bersetzungen</td>\n",
       "      <td>1750</td>\n",
       "      <td>9.0</td>\n",
       "    </tr>\n",
       "    <tr>\n",
       "      <th>212564</th>\n",
       "      <td>Genius Traduzioni Italiane</td>\n",
       "      <td>1657</td>\n",
       "      <td>10.0</td>\n",
       "    </tr>\n",
       "  </tbody>\n",
       "</table>\n",
       "</div>"
      ],
      "text/plain": [
       "                                 artist  number of tracks  rank\n",
       "212538             Genius Romanizations             16325   1.0\n",
       "212480      Genius English Translations             13832   2.0\n",
       "212464            Genius Brasil Tradues              8693   3.0\n",
       "212560    Genius Traducciones al Espaol              7083   4.0\n",
       "212563     Genius Traductions Franaises              4680   5.0\n",
       "212567                Genius Trke eviri              3941   6.0\n",
       "212542  Genius Russian Translations ( )              3069   7.0\n",
       "557805                The Grateful Dead              2121   8.0\n",
       "212473     Genius Deutsche bersetzungen              1750   9.0\n",
       "212564       Genius Traduzioni Italiane              1657  10.0"
      ]
     },
     "metadata": {},
     "output_type": "display_data"
    }
   ],
   "source": [
    "#Artists - top 10 number by id (popular_artists_df)\n",
    "artist_top_ten_df = song_lyrics_full_df.groupby('artist').agg({'id':'count'}).reset_index()\n",
    "artist_top_ten_df['rank'] = artist_top_ten_df['id'].rank(ascending= False)\n",
    "artist_top_ten_df = artist_top_ten_df.sort_values(by = 'rank')\n",
    "artist_top_ten_df = artist_top_ten_df.rename(columns = {\"id\" : \"number of tracks\"})\n",
    "artist_top_ten_df = artist_top_ten_df.head(10)\n",
    "\n",
    "display(artist_top_ten_df)\n"
   ]
  },
  {
   "cell_type": "code",
   "execution_count": 29,
   "metadata": {},
   "outputs": [
    {
     "data": {
      "text/html": [
       "<div>\n",
       "<style scoped>\n",
       "    .dataframe tbody tr th:only-of-type {\n",
       "        vertical-align: middle;\n",
       "    }\n",
       "\n",
       "    .dataframe tbody tr th {\n",
       "        vertical-align: top;\n",
       "    }\n",
       "\n",
       "    .dataframe thead th {\n",
       "        text-align: right;\n",
       "    }\n",
       "</style>\n",
       "<table border=\"1\" class=\"dataframe\">\n",
       "  <thead>\n",
       "    <tr style=\"text-align: right;\">\n",
       "      <th></th>\n",
       "      <th>artist</th>\n",
       "      <th>views</th>\n",
       "      <th>rank</th>\n",
       "    </tr>\n",
       "  </thead>\n",
       "  <tbody>\n",
       "    <tr>\n",
       "      <th>162463</th>\n",
       "      <td>Drake</td>\n",
       "      <td>290399287</td>\n",
       "      <td>1.0</td>\n",
       "    </tr>\n",
       "    <tr>\n",
       "      <th>178799</th>\n",
       "      <td>Eminem</td>\n",
       "      <td>200053017</td>\n",
       "      <td>2.0</td>\n",
       "    </tr>\n",
       "    <tr>\n",
       "      <th>212480</th>\n",
       "      <td>Genius English Translations</td>\n",
       "      <td>166147761</td>\n",
       "      <td>3.0</td>\n",
       "    </tr>\n",
       "    <tr>\n",
       "      <th>294551</th>\n",
       "      <td>Kanye West</td>\n",
       "      <td>165987900</td>\n",
       "      <td>4.0</td>\n",
       "    </tr>\n",
       "    <tr>\n",
       "      <th>300279</th>\n",
       "      <td>Kendrick Lamar</td>\n",
       "      <td>148673371</td>\n",
       "      <td>5.0</td>\n",
       "    </tr>\n",
       "    <tr>\n",
       "      <th>212538</th>\n",
       "      <td>Genius Romanizations</td>\n",
       "      <td>130613600</td>\n",
       "      <td>6.0</td>\n",
       "    </tr>\n",
       "    <tr>\n",
       "      <th>565594</th>\n",
       "      <td>The Weeknd</td>\n",
       "      <td>118931875</td>\n",
       "      <td>7.0</td>\n",
       "    </tr>\n",
       "    <tr>\n",
       "      <th>548763</th>\n",
       "      <td>Taylor Swift</td>\n",
       "      <td>99135311</td>\n",
       "      <td>8.0</td>\n",
       "    </tr>\n",
       "    <tr>\n",
       "      <th>254818</th>\n",
       "      <td>J. Cole</td>\n",
       "      <td>95504023</td>\n",
       "      <td>9.0</td>\n",
       "    </tr>\n",
       "    <tr>\n",
       "      <th>611925</th>\n",
       "      <td>XXXTENTACION</td>\n",
       "      <td>90966813</td>\n",
       "      <td>10.0</td>\n",
       "    </tr>\n",
       "  </tbody>\n",
       "</table>\n",
       "</div>"
      ],
      "text/plain": [
       "                             artist      views  rank\n",
       "162463                        Drake  290399287   1.0\n",
       "178799                       Eminem  200053017   2.0\n",
       "212480  Genius English Translations  166147761   3.0\n",
       "294551                   Kanye West  165987900   4.0\n",
       "300279               Kendrick Lamar  148673371   5.0\n",
       "212538         Genius Romanizations  130613600   6.0\n",
       "565594                   The Weeknd  118931875   7.0\n",
       "548763                 Taylor Swift   99135311   8.0\n",
       "254818                      J. Cole   95504023   9.0\n",
       "611925                 XXXTENTACION   90966813  10.0"
      ]
     },
     "metadata": {},
     "output_type": "display_data"
    }
   ],
   "source": [
    "# Artist - top 10 artists by number of views (popular_artist_x_views_df)\n",
    "artist_top_ten_views_df = song_lyrics_full_df.groupby('artist').agg({'views':'sum'}).reset_index()\n",
    "artist_top_ten_views_df['rank'] = artist_top_ten_views_df['views'].rank(ascending= False)\n",
    "artist_top_ten_views_df = artist_top_ten_views_df.sort_values(by = 'rank')\n",
    "artist_top_ten_views_df = artist_top_ten_views_df.head(10)\n",
    "\n",
    "display(artist_top_ten_views_df)"
   ]
  },
  {
   "cell_type": "markdown",
   "metadata": {},
   "source": [
    "### Artists formally known as *Genius*\n",
    "\n",
    "There appears to be around 400 artists containing the word \"Genius\". While many of them are *Genius Translations*, there are notable exceptions (Perfume Genius, boygenius). In an absence of a systematic way of identifying Genius Translations from Non-Genius Translations, it will be easier to filter them out as we prepare our data for analysis and modelling."
   ]
  },
  {
   "cell_type": "code",
   "execution_count": 30,
   "metadata": {},
   "outputs": [
    {
     "data": {
      "text/html": [
       "<div>\n",
       "<style scoped>\n",
       "    .dataframe tbody tr th:only-of-type {\n",
       "        vertical-align: middle;\n",
       "    }\n",
       "\n",
       "    .dataframe tbody tr th {\n",
       "        vertical-align: top;\n",
       "    }\n",
       "\n",
       "    .dataframe thead th {\n",
       "        text-align: right;\n",
       "    }\n",
       "</style>\n",
       "<table border=\"1\" class=\"dataframe\">\n",
       "  <thead>\n",
       "    <tr style=\"text-align: right;\">\n",
       "      <th></th>\n",
       "      <th>artist</th>\n",
       "      <th>id</th>\n",
       "    </tr>\n",
       "  </thead>\n",
       "  <tbody>\n",
       "    <tr>\n",
       "      <th>0</th>\n",
       "      <td>(Genius Nochang)</td>\n",
       "      <td>85</td>\n",
       "    </tr>\n",
       "    <tr>\n",
       "      <th>1</th>\n",
       "      <td>genius   (who?)</td>\n",
       "      <td>4</td>\n",
       "    </tr>\n",
       "    <tr>\n",
       "      <th>2</th>\n",
       "      <td>50 Best Rap Songs of 2015 Lyrics - Genius</td>\n",
       "      <td>1</td>\n",
       "    </tr>\n",
       "    <tr>\n",
       "      <th>3</th>\n",
       "      <td>50 Best Songs of 2015 Lyrics - Genius</td>\n",
       "      <td>1</td>\n",
       "    </tr>\n",
       "    <tr>\n",
       "      <th>4</th>\n",
       "      <td>7xvethegenius</td>\n",
       "      <td>21</td>\n",
       "    </tr>\n",
       "    <tr>\n",
       "      <th>...</th>\n",
       "      <td>...</td>\n",
       "      <td>...</td>\n",
       "    </tr>\n",
       "    <tr>\n",
       "      <th>443</th>\n",
       "      <td>boygenius</td>\n",
       "      <td>11</td>\n",
       "    </tr>\n",
       "    <tr>\n",
       "      <th>444</th>\n",
       "      <td>crive On Genius</td>\n",
       "      <td>2</td>\n",
       "    </tr>\n",
       "    <tr>\n",
       "      <th>445</th>\n",
       "      <td>geniuscontributor</td>\n",
       "      <td>1</td>\n",
       "    </tr>\n",
       "    <tr>\n",
       "      <th>446</th>\n",
       "      <td>iAmTheGENIUS</td>\n",
       "      <td>2</td>\n",
       "    </tr>\n",
       "    <tr>\n",
       "      <th>447</th>\n",
       "      <td>oribloom on genius</td>\n",
       "      <td>2</td>\n",
       "    </tr>\n",
       "  </tbody>\n",
       "</table>\n",
       "<p>448 rows × 2 columns</p>\n",
       "</div>"
      ],
      "text/plain": [
       "                                        artist  id\n",
       "0                             (Genius Nochang)  85\n",
       "1                              genius   (who?)   4\n",
       "2    50 Best Rap Songs of 2015 Lyrics - Genius   1\n",
       "3        50 Best Songs of 2015 Lyrics - Genius   1\n",
       "4                                7xvethegenius  21\n",
       "..                                         ...  ..\n",
       "443                                  boygenius  11\n",
       "444                            crive On Genius   2\n",
       "445                          geniuscontributor   1\n",
       "446                               iAmTheGENIUS   2\n",
       "447                         oribloom on genius   2\n",
       "\n",
       "[448 rows x 2 columns]"
      ]
     },
     "metadata": {},
     "output_type": "display_data"
    }
   ],
   "source": [
    "# Artists with \"Genius\" in their title\n",
    "\n",
    "genius_artists_df = song_lyrics_full_df[song_lyrics_full_df['artist'].str.contains('Genius', case=False, na=False)]\n",
    "genius_artists_df = genius_artists_df.groupby('artist').agg({'id':'count'}).reset_index()\n",
    "\n",
    "display(genius_artists_df)\n",
    "\n"
   ]
  },
  {
   "cell_type": "markdown",
   "metadata": {},
   "source": [
    "### Features\n",
    "\n",
    "Similar to artists, the *Genius Translations* dominate the number of features, but Drake retains another crown when it comes to total views."
   ]
  },
  {
   "cell_type": "code",
   "execution_count": 31,
   "metadata": {},
   "outputs": [
    {
     "data": {
      "text/html": [
       "<div>\n",
       "<style scoped>\n",
       "    .dataframe tbody tr th:only-of-type {\n",
       "        vertical-align: middle;\n",
       "    }\n",
       "\n",
       "    .dataframe tbody tr th {\n",
       "        vertical-align: top;\n",
       "    }\n",
       "\n",
       "    .dataframe thead th {\n",
       "        text-align: right;\n",
       "    }\n",
       "</style>\n",
       "<table border=\"1\" class=\"dataframe\">\n",
       "  <thead>\n",
       "    <tr style=\"text-align: right;\">\n",
       "      <th></th>\n",
       "      <th>features</th>\n",
       "      <th>number of tracks</th>\n",
       "      <th>rank</th>\n",
       "    </tr>\n",
       "  </thead>\n",
       "  <tbody>\n",
       "    <tr>\n",
       "      <th>442405</th>\n",
       "      <td>{}</td>\n",
       "      <td>3961625</td>\n",
       "      <td>1.0</td>\n",
       "    </tr>\n",
       "    <tr>\n",
       "      <th>90380</th>\n",
       "      <td>{\"Genius Brasil Traduções\"}</td>\n",
       "      <td>8692</td>\n",
       "      <td>2.0</td>\n",
       "    </tr>\n",
       "    <tr>\n",
       "      <th>90436</th>\n",
       "      <td>{\"Genius Traducciones al Español\"}</td>\n",
       "      <td>7071</td>\n",
       "      <td>3.0</td>\n",
       "    </tr>\n",
       "    <tr>\n",
       "      <th>90443</th>\n",
       "      <td>{\"Genius Traductions Françaises\"}</td>\n",
       "      <td>4674</td>\n",
       "      <td>4.0</td>\n",
       "    </tr>\n",
       "    <tr>\n",
       "      <th>90450</th>\n",
       "      <td>{\"Genius Türkçe Çeviri\"}</td>\n",
       "      <td>3933</td>\n",
       "      <td>5.0</td>\n",
       "    </tr>\n",
       "    <tr>\n",
       "      <th>90424</th>\n",
       "      <td>{\"Genius Russian Translations (Русский перевод)\"}</td>\n",
       "      <td>3064</td>\n",
       "      <td>6.0</td>\n",
       "    </tr>\n",
       "    <tr>\n",
       "      <th>90383</th>\n",
       "      <td>{\"Genius Deutsche Übersetzungen\"}</td>\n",
       "      <td>1747</td>\n",
       "      <td>7.0</td>\n",
       "    </tr>\n",
       "    <tr>\n",
       "      <th>204437</th>\n",
       "      <td>{\"Polskie tłumaczenia Genius\"}</td>\n",
       "      <td>1348</td>\n",
       "      <td>8.0</td>\n",
       "    </tr>\n",
       "    <tr>\n",
       "      <th>141501</th>\n",
       "      <td>{\"La Bible de Jérusalem\"}</td>\n",
       "      <td>1189</td>\n",
       "      <td>9.0</td>\n",
       "    </tr>\n",
       "    <tr>\n",
       "      <th>90391</th>\n",
       "      <td>{\"Genius Farsi Translations (ترجمه‌ی فارسی)\"}</td>\n",
       "      <td>1031</td>\n",
       "      <td>10.0</td>\n",
       "    </tr>\n",
       "  </tbody>\n",
       "</table>\n",
       "</div>"
      ],
      "text/plain": [
       "                                                 features  number of tracks  \\\n",
       "442405                                                 {}           3961625   \n",
       "90380                         {\"Genius Brasil Traduções\"}              8692   \n",
       "90436                  {\"Genius Traducciones al Español\"}              7071   \n",
       "90443                   {\"Genius Traductions Françaises\"}              4674   \n",
       "90450                            {\"Genius Türkçe Çeviri\"}              3933   \n",
       "90424   {\"Genius Russian Translations (Русский перевод)\"}              3064   \n",
       "90383                   {\"Genius Deutsche Übersetzungen\"}              1747   \n",
       "204437                     {\"Polskie tłumaczenia Genius\"}              1348   \n",
       "141501                          {\"La Bible de Jérusalem\"}              1189   \n",
       "90391       {\"Genius Farsi Translations (ترجمه‌ی فارسی)\"}              1031   \n",
       "\n",
       "        rank  \n",
       "442405   1.0  \n",
       "90380    2.0  \n",
       "90436    3.0  \n",
       "90443    4.0  \n",
       "90450    5.0  \n",
       "90424    6.0  \n",
       "90383    7.0  \n",
       "204437   8.0  \n",
       "141501   9.0  \n",
       "90391   10.0  "
      ]
     },
     "metadata": {},
     "output_type": "display_data"
    }
   ],
   "source": [
    "# features (most popular feature?) - most features (popular_features_df)\n",
    "# Need to remove {} brakcets\n",
    "features_top_ten_views_df = song_lyrics_full_df.groupby('features').agg({'id':'count'}).reset_index()\n",
    "features_top_ten_views_df['rank'] = features_top_ten_views_df['id'].rank(ascending= False)\n",
    "features_top_ten_views_df = features_top_ten_views_df.rename(columns = {\"id\" : \"number of tracks\"})\n",
    "features_top_ten_views_df = features_top_ten_views_df.sort_values(by = 'rank')\n",
    "features_top_ten_views_df = features_top_ten_views_df.head(10)\n",
    "\n",
    "display(features_top_ten_views_df)"
   ]
  },
  {
   "cell_type": "code",
   "execution_count": 32,
   "metadata": {},
   "outputs": [
    {
     "data": {
      "text/html": [
       "<div>\n",
       "<style scoped>\n",
       "    .dataframe tbody tr th:only-of-type {\n",
       "        vertical-align: middle;\n",
       "    }\n",
       "\n",
       "    .dataframe tbody tr th {\n",
       "        vertical-align: top;\n",
       "    }\n",
       "\n",
       "    .dataframe thead th {\n",
       "        text-align: right;\n",
       "    }\n",
       "</style>\n",
       "<table border=\"1\" class=\"dataframe\">\n",
       "  <thead>\n",
       "    <tr style=\"text-align: right;\">\n",
       "      <th></th>\n",
       "      <th>features</th>\n",
       "      <th>views</th>\n",
       "      <th>rank</th>\n",
       "    </tr>\n",
       "  </thead>\n",
       "  <tbody>\n",
       "    <tr>\n",
       "      <th>442405</th>\n",
       "      <td>{}</td>\n",
       "      <td>10455148832</td>\n",
       "      <td>1.0</td>\n",
       "    </tr>\n",
       "    <tr>\n",
       "      <th>332916</th>\n",
       "      <td>{Drake}</td>\n",
       "      <td>79483840</td>\n",
       "      <td>2.0</td>\n",
       "    </tr>\n",
       "    <tr>\n",
       "      <th>313477</th>\n",
       "      <td>{Beyoncé}</td>\n",
       "      <td>51296386</td>\n",
       "      <td>3.0</td>\n",
       "    </tr>\n",
       "    <tr>\n",
       "      <th>131922</th>\n",
       "      <td>{\"Kendrick Lamar\"}</td>\n",
       "      <td>36751457</td>\n",
       "      <td>4.0</td>\n",
       "    </tr>\n",
       "    <tr>\n",
       "      <th>258960</th>\n",
       "      <td>{\"Tyler / The Creator\"}</td>\n",
       "      <td>36473868</td>\n",
       "      <td>5.0</td>\n",
       "    </tr>\n",
       "    <tr>\n",
       "      <th>278957</th>\n",
       "      <td>{\"\\\\$UICIDEBOY\\\\$\"}</td>\n",
       "      <td>35731039</td>\n",
       "      <td>6.0</td>\n",
       "    </tr>\n",
       "    <tr>\n",
       "      <th>294371</th>\n",
       "      <td>{\"​twenty one pilots\"}</td>\n",
       "      <td>34349038</td>\n",
       "      <td>7.0</td>\n",
       "    </tr>\n",
       "    <tr>\n",
       "      <th>125293</th>\n",
       "      <td>{\"Justin Bieber\"}</td>\n",
       "      <td>29924232</td>\n",
       "      <td>8.0</td>\n",
       "    </tr>\n",
       "    <tr>\n",
       "      <th>151535</th>\n",
       "      <td>{\"Lil Wayne\"}</td>\n",
       "      <td>28784132</td>\n",
       "      <td>9.0</td>\n",
       "    </tr>\n",
       "    <tr>\n",
       "      <th>189041</th>\n",
       "      <td>{\"Nicki Minaj\"}</td>\n",
       "      <td>28126310</td>\n",
       "      <td>10.0</td>\n",
       "    </tr>\n",
       "  </tbody>\n",
       "</table>\n",
       "</div>"
      ],
      "text/plain": [
       "                       features        views  rank\n",
       "442405                       {}  10455148832   1.0\n",
       "332916                  {Drake}     79483840   2.0\n",
       "313477                {Beyoncé}     51296386   3.0\n",
       "131922       {\"Kendrick Lamar\"}     36751457   4.0\n",
       "258960  {\"Tyler / The Creator\"}     36473868   5.0\n",
       "278957      {\"\\\\$UICIDEBOY\\\\$\"}     35731039   6.0\n",
       "294371   {\"​twenty one pilots\"}     34349038   7.0\n",
       "125293        {\"Justin Bieber\"}     29924232   8.0\n",
       "151535            {\"Lil Wayne\"}     28784132   9.0\n",
       "189041          {\"Nicki Minaj\"}     28126310  10.0"
      ]
     },
     "metadata": {},
     "output_type": "display_data"
    }
   ],
   "source": [
    "# features (most popular feature?) - most features (popular_features_df)\n",
    "# Need to remove {} brakcets\n",
    "features_top_ten_views_df = song_lyrics_full_df.groupby('features').agg({'views':'sum'}).reset_index()\n",
    "features_top_ten_views_df['rank'] = features_top_ten_views_df['views'].rank(ascending= False)\n",
    "features_top_ten_views_df = features_top_ten_views_df.sort_values(by = 'rank')\n",
    "features_top_ten_views_df = features_top_ten_views_df.head(10)\n",
    "\n",
    "display(features_top_ten_views_df)"
   ]
  },
  {
   "cell_type": "markdown",
   "metadata": {},
   "source": [
    "### Language\n",
    "\n",
    "Unsurprisingly, European languages dominates the most number of tracks and views, across time and since the dawn of popular music in 1880.\n",
    "There are over 3 million english language tracks, although a proportion of them will be *Genius English Translations*. In any case, because the aim is to analyse lyric sentiment and generate lyrics in English, there seems to be enough data in whcih to make an attempt."
   ]
  },
  {
   "cell_type": "code",
   "execution_count": 33,
   "metadata": {},
   "outputs": [
    {
     "data": {
      "text/html": [
       "<div>\n",
       "<style scoped>\n",
       "    .dataframe tbody tr th:only-of-type {\n",
       "        vertical-align: middle;\n",
       "    }\n",
       "\n",
       "    .dataframe tbody tr th {\n",
       "        vertical-align: top;\n",
       "    }\n",
       "\n",
       "    .dataframe thead th {\n",
       "        text-align: right;\n",
       "    }\n",
       "</style>\n",
       "<table border=\"1\" class=\"dataframe\">\n",
       "  <thead>\n",
       "    <tr style=\"text-align: right;\">\n",
       "      <th></th>\n",
       "      <th>language</th>\n",
       "      <th>number of tracks</th>\n",
       "      <th>views</th>\n",
       "      <th>rank</th>\n",
       "    </tr>\n",
       "  </thead>\n",
       "  <tbody>\n",
       "    <tr>\n",
       "      <th>15</th>\n",
       "      <td>en</td>\n",
       "      <td>3374198</td>\n",
       "      <td>12175728644</td>\n",
       "      <td>1.0</td>\n",
       "    </tr>\n",
       "    <tr>\n",
       "      <th>23</th>\n",
       "      <td>fr</td>\n",
       "      <td>189436</td>\n",
       "      <td>573275888</td>\n",
       "      <td>2.0</td>\n",
       "    </tr>\n",
       "    <tr>\n",
       "      <th>65</th>\n",
       "      <td>ru</td>\n",
       "      <td>166044</td>\n",
       "      <td>560252468</td>\n",
       "      <td>3.0</td>\n",
       "    </tr>\n",
       "    <tr>\n",
       "      <th>17</th>\n",
       "      <td>es</td>\n",
       "      <td>275432</td>\n",
       "      <td>386925647</td>\n",
       "      <td>4.0</td>\n",
       "    </tr>\n",
       "    <tr>\n",
       "      <th>13</th>\n",
       "      <td>de</td>\n",
       "      <td>160150</td>\n",
       "      <td>370613897</td>\n",
       "      <td>5.0</td>\n",
       "    </tr>\n",
       "    <tr>\n",
       "      <th>36</th>\n",
       "      <td>it</td>\n",
       "      <td>118775</td>\n",
       "      <td>251241472</td>\n",
       "      <td>6.0</td>\n",
       "    </tr>\n",
       "    <tr>\n",
       "      <th>61</th>\n",
       "      <td>pl</td>\n",
       "      <td>83862</td>\n",
       "      <td>156839895</td>\n",
       "      <td>7.0</td>\n",
       "    </tr>\n",
       "    <tr>\n",
       "      <th>77</th>\n",
       "      <td>tr</td>\n",
       "      <td>44692</td>\n",
       "      <td>156312482</td>\n",
       "      <td>8.0</td>\n",
       "    </tr>\n",
       "    <tr>\n",
       "      <th>63</th>\n",
       "      <td>pt</td>\n",
       "      <td>167947</td>\n",
       "      <td>69437613</td>\n",
       "      <td>9.0</td>\n",
       "    </tr>\n",
       "    <tr>\n",
       "      <th>42</th>\n",
       "      <td>ko</td>\n",
       "      <td>27979</td>\n",
       "      <td>61734288</td>\n",
       "      <td>10.0</td>\n",
       "    </tr>\n",
       "  </tbody>\n",
       "</table>\n",
       "</div>"
      ],
      "text/plain": [
       "   language  number of tracks        views  rank\n",
       "15       en           3374198  12175728644   1.0\n",
       "23       fr            189436    573275888   2.0\n",
       "65       ru            166044    560252468   3.0\n",
       "17       es            275432    386925647   4.0\n",
       "13       de            160150    370613897   5.0\n",
       "36       it            118775    251241472   6.0\n",
       "61       pl             83862    156839895   7.0\n",
       "77       tr             44692    156312482   8.0\n",
       "63       pt            167947     69437613   9.0\n",
       "42       ko             27979     61734288  10.0"
      ]
     },
     "metadata": {},
     "output_type": "display_data"
    }
   ],
   "source": [
    "#Most popular language\n",
    "popular_lang_df = song_lyrics_full_df.groupby('language').agg({'id':'count','views':'sum'}).reset_index()\n",
    "popular_lang_df ['rank'] = popular_lang_df ['views'].rank(ascending= False)\n",
    "popular_lang_df  = popular_lang_df.rename(columns = {\"id\" : \"number of tracks\"})\n",
    "popular_lang_df  = popular_lang_df.sort_values(by = 'rank')\n",
    "popular_lang_df  = popular_lang_df.head(10)\n",
    "\n",
    "display(popular_lang_df)"
   ]
  },
  {
   "cell_type": "code",
   "execution_count": 34,
   "metadata": {},
   "outputs": [
    {
     "data": {
      "text/html": [
       "<div>\n",
       "<style scoped>\n",
       "    .dataframe tbody tr th:only-of-type {\n",
       "        vertical-align: middle;\n",
       "    }\n",
       "\n",
       "    .dataframe tbody tr th {\n",
       "        vertical-align: top;\n",
       "    }\n",
       "\n",
       "    .dataframe thead th {\n",
       "        text-align: right;\n",
       "    }\n",
       "</style>\n",
       "<table border=\"1\" class=\"dataframe\">\n",
       "  <thead>\n",
       "    <tr style=\"text-align: right;\">\n",
       "      <th></th>\n",
       "      <th>language</th>\n",
       "      <th>number of tracks</th>\n",
       "      <th>views</th>\n",
       "      <th>rank</th>\n",
       "    </tr>\n",
       "  </thead>\n",
       "  <tbody>\n",
       "    <tr>\n",
       "      <th>15</th>\n",
       "      <td>en</td>\n",
       "      <td>3360743</td>\n",
       "      <td>12141249977</td>\n",
       "      <td>1.0</td>\n",
       "    </tr>\n",
       "    <tr>\n",
       "      <th>23</th>\n",
       "      <td>fr</td>\n",
       "      <td>189035</td>\n",
       "      <td>572596368</td>\n",
       "      <td>2.0</td>\n",
       "    </tr>\n",
       "    <tr>\n",
       "      <th>65</th>\n",
       "      <td>ru</td>\n",
       "      <td>165923</td>\n",
       "      <td>560233299</td>\n",
       "      <td>3.0</td>\n",
       "    </tr>\n",
       "    <tr>\n",
       "      <th>17</th>\n",
       "      <td>es</td>\n",
       "      <td>275326</td>\n",
       "      <td>386889167</td>\n",
       "      <td>4.0</td>\n",
       "    </tr>\n",
       "    <tr>\n",
       "      <th>13</th>\n",
       "      <td>de</td>\n",
       "      <td>159590</td>\n",
       "      <td>369978839</td>\n",
       "      <td>5.0</td>\n",
       "    </tr>\n",
       "    <tr>\n",
       "      <th>36</th>\n",
       "      <td>it</td>\n",
       "      <td>118540</td>\n",
       "      <td>251029223</td>\n",
       "      <td>6.0</td>\n",
       "    </tr>\n",
       "    <tr>\n",
       "      <th>77</th>\n",
       "      <td>tr</td>\n",
       "      <td>44676</td>\n",
       "      <td>156303198</td>\n",
       "      <td>7.0</td>\n",
       "    </tr>\n",
       "    <tr>\n",
       "      <th>61</th>\n",
       "      <td>pl</td>\n",
       "      <td>83722</td>\n",
       "      <td>154659951</td>\n",
       "      <td>8.0</td>\n",
       "    </tr>\n",
       "    <tr>\n",
       "      <th>63</th>\n",
       "      <td>pt</td>\n",
       "      <td>167823</td>\n",
       "      <td>69417040</td>\n",
       "      <td>9.0</td>\n",
       "    </tr>\n",
       "    <tr>\n",
       "      <th>42</th>\n",
       "      <td>ko</td>\n",
       "      <td>27978</td>\n",
       "      <td>61734284</td>\n",
       "      <td>10.0</td>\n",
       "    </tr>\n",
       "  </tbody>\n",
       "</table>\n",
       "</div>"
      ],
      "text/plain": [
       "   language  number of tracks        views  rank\n",
       "15       en           3360743  12141249977   1.0\n",
       "23       fr            189035    572596368   2.0\n",
       "65       ru            165923    560233299   3.0\n",
       "17       es            275326    386889167   4.0\n",
       "13       de            159590    369978839   5.0\n",
       "36       it            118540    251029223   6.0\n",
       "77       tr             44676    156303198   7.0\n",
       "61       pl             83722    154659951   8.0\n",
       "63       pt            167823     69417040   9.0\n",
       "42       ko             27978     61734284  10.0"
      ]
     },
     "metadata": {},
     "output_type": "display_data"
    }
   ],
   "source": [
    "#Most popular language since dawn of popular music\n",
    "popular_lang_1880_df = song_lyrics_from_1880_df.groupby('language').agg({'id':'count','views':'sum'}).reset_index()\n",
    "popular_lang_1880_df ['rank'] = popular_lang_1880_df  ['views'].rank(ascending= False)\n",
    "popular_lang_1880_df   = popular_lang_1880_df .rename(columns = {\"id\" : \"number of tracks\"})\n",
    "popular_lang_1880_df   = popular_lang_1880_df .sort_values(by = 'rank')\n",
    "popular_lang_1880_df   = popular_lang_1880_df .head(10)\n",
    "\n",
    "display(popular_lang_1880_df)\n",
    "\n",
    "# #Most popular langauge by views and year\n",
    "# popular_lang_views_df = song_lyrics_sample_df.groupby(['year','language']).agg({'views':'sum'}).reset_index()\n",
    "# display(popular_lang_views_df)"
   ]
  },
  {
   "cell_type": "markdown",
   "metadata": {},
   "source": [
    "### Lyrics\n",
    "Pink Floyd mean a lot to me. They are the first band I listened to meaningfully. I repeatedely watched live versions of *Us and Them* and *Wish You Were Here* on *Delicate Sound of Thunder* VHS.\n",
    "\n",
    "We can use these tracks to examine the format of the lyrics in the dataset. A couple of things stand out:\n",
    "\n",
    "* Special characters to denote line breaks (\\n).\n",
    "* Square brackets contain section markers (e.g. verse), song credits and features. The section makers could be very useful as tokens in a large language model to generate lyrics for a specific section (i.e. lyrics + rock + verse)\n"
   ]
  },
  {
   "cell_type": "code",
   "execution_count": 35,
   "metadata": {},
   "outputs": [
    {
     "data": {
      "text/plain": [
       "array(['[Verse 1: David Gilmour & Richard Wright]\\nUs (Us, us, us, us, us) and them (Them, them, them, them)\\nAnd after all we\\'re only ordinary men\\nMe (Me, me, me, me, me) and you (You, you, you, you, you)\\nGod only knows it\\'s not what we would choose to do\\n\"Forward\" he cried from the rear\\nAnd the front rank died\\nThe general sat and the lines on the map\\nMoved from side to side\\n\\n[Verse 2: David Gilmour & Richard Wright]\\nBlack (Black, black, black, black) and blue (Blue, blue, blue, blue)\\nAnd who knows which is which and who is who\\nUp (Up, up, up, up, up) and down (Down, down, down, down)\\nAnd in the end it\\'s only round and round, and round\\n\"Haven\\'t you heard it\\'s a battle of words?\"\\nThe poster bearer cried\\n\"Listen, son,\" said the man with the gun\\n\"There\\'s room for you inside\"\\n\\n[Interlude]\\nI mean, they\\'re not gonna kill ya\\nSo like, if you give \\'em a quick short, sharp, shock\\nThey won\\'t do it again\\nDig it? I mean he got off lightly\\n\\'Cause I would\\'ve given him a thrashing\\nI only hit him once!\\nIt was only a difference of right and wrong, innit?\\nBut really, I mean good manners don\\'t cost nothing do they, eh?\\n[Saxophone Solo]\\n\\n[Verse 3: David Gilmour & Richard Wright]\\nDown (Down, down, down, down) and out (Out, out, out, out)\\nIt can\\'t be helped but there\\'s a lot of it about\\nWith (With, with, with, with), without\\nAnd who\\'ll deny it\\'s what the fighting\\'s all about?\\nOut of the way, it\\'s a busy day\\nI\\'ve got things on my mind\\nFor want of the price of tea and a slice\\nThe old man died'],\n",
       "      dtype=object)"
      ]
     },
     "metadata": {},
     "output_type": "display_data"
    }
   ],
   "source": [
    "us_and_them_df = song_lyrics_full_df[(song_lyrics_full_df['artist'] == \"Pink Floyd\") & (song_lyrics_full_df['title'] == \"Us and Them\")]\n",
    "\n",
    "display(us_and_them_df['lyrics'].values)\n"
   ]
  },
  {
   "cell_type": "code",
   "execution_count": 36,
   "metadata": {},
   "outputs": [
    {
     "data": {
      "text/plain": [
       "array([\"[Spoken Intro]\\nAnd disciplinary remains mercifully\\nYes and um, I’m with you Derek, this star nonsense\\nYes, yes, now which is it?\\nI am sure of it\\n\\n[Twelve-string guitar Intro]\\n\\n[Verse]\\nSo, so you think you can tell\\nHeaven from Hell? Blue skies from pain?\\nCan you tell a green field from a cold steel rail?\\nA smile from a veil? Do you think you can tell?\\nDid they get you to trade your heroes for ghosts?\\nHot ashes for trees? Hot air for a cool breeze?\\nCold comfort for change? Did you exchange\\nA walk-on part in the war\\nFor a lead role in a cage?\\n\\n[Acoustic Guitar Solo]\\n[Chorus]\\nHow I wish, how I wish you were here\\nWe're just two lost souls swimming in a fishbowl year after year\\nRunning over the same old ground, what have we found?\\nThe same old fears, wish you were here\\n\\n[Instrumental Outro & Scatting]\"],\n",
       "      dtype=object)"
      ]
     },
     "metadata": {},
     "output_type": "display_data"
    }
   ],
   "source": [
    "wish_you_were_here_df = song_lyrics_full_df[(song_lyrics_full_df['artist'] == \"Pink Floyd\") & (song_lyrics_full_df['title'] == \"Wish You Were Here\")]\n",
    "\n",
    "display(wish_you_were_here_df['lyrics'].values)"
   ]
  },
  {
   "cell_type": "markdown",
   "metadata": {},
   "source": [
    "# Using text classification to examine lyric sentiment\n",
    "\n",
    "The great songs make us *feel*. Joy. Elation. Danger. Extreme feelings often occur in the same song (*soon* by mbv anyone?).\n",
    "\n",
    "The real power lies in the congurance between music and lyrics.\n",
    "\n",
    "For example, the opening lyric of *Blue* by Joni Mitchell is \"Blue\" accompanied by a minor chord. Minor chords evoke negative feelings (i.e. sadness). Thus the utterance of the word blue feels...really blue. Just imagine if it were played with a major chord instead? A negative word contrasted with chords that evoke positive feelings.\n",
    "\n",
    "TBC: something about intervals here.\n",
    "\n",
    "To that end, I would like to classify lyrics to English songs using two sets of labels:\n",
    "\n",
    "1. Which songs evoke positive, negative or neutral feelings?\n",
    "2. Which songs evoke specific emotions (i.e. joy, danger)?\n",
    "\n",
    "For each question, we will use a range of text-classification methods.\n",
    "\n",
    "For further information on the importance of intervals and emotions:\n",
    "\n",
    "* [Gravity Sound](https://gravitysound.studio/blogs/news/how-interval-music-theory-can-trick-your-brain)\n",
    "* [How Music Really Works](https://www.howmusicreallyworks.com/chapter-four-scales-intervals/intervals-emotional-power-music.html)\n"
   ]
  },
  {
   "cell_type": "markdown",
   "metadata": {},
   "source": [
    "### Data preprocessing\n",
    "\n",
    "In preparation for text classification, we will filter our data based on the findings from our EDA:\n",
    "\n",
    "* Keep tracks with English lyrics.\n",
    "* Remove artists which contain the word \"Genius\"\n",
    "* Remove tracks under the \"misc\" genre.\n",
    "* Keep songs since 1880, the dawn of popular music.\n",
    "* Remove songs after 2022, the year this dataset \"ends\".\n",
    "* Keep songs with at least 448 views (i.e. top 25% of tracks).\n",
    "\n",
    "We also need to clean the lyrics. This involves removing text between the square brackets, such as section markers, song credits, features, and apply standard cleaning processes. This will enable text classification to be more effective. We can use the lyrics to *Wish You Were Here* to show the impact of cleaning the lyrics.\n",
    "\n",
    "TODO: need to check the character length of the lyrics - are they longer than the max?\n",
    "\n",
    "TODO: remove songs with a low number of views? Do a histogram of views? We want to learn from well known songs.\n"
   ]
  },
  {
   "cell_type": "code",
   "execution_count": null,
   "metadata": {},
   "outputs": [],
   "source": [
    "#Data Preprocessing\n",
    "import re\n",
    "\n",
    "#Clean text\n",
    "def clean_lyrics(text):\n",
    "    \n",
    "    #Remove text between brackets\n",
    "    text = re.sub(r'\\[.*?\\]', '', text)\n",
    "    \n",
    "    # Remove newline and tab characters\n",
    "    text = re.sub(r'[\\n\\t]', ' ', text)\n",
    "    \n",
    "    # Remove special characters and digits (optional, depending on use case)\n",
    "    text = re.sub(r'[^A-Za-z\\s]', '', text)\n",
    "    \n",
    "    # Normalize whitespace\n",
    "    text = re.sub(r'\\s+', ' ', text).strip()\n",
    "    \n",
    "    # Convert to lowercase\n",
    "    text = text.lower()\n",
    "    \n",
    "    return text\n",
    "\n",
    "# Example usage of cleaning lyrics to wish you were here\n",
    "wish_you_were_here_clean = clean_lyrics(wish_you_were_here_df.iloc[0,6])\n",
    "display(wish_you_were_here_clean)\n"
   ]
  },
  {
   "cell_type": "code",
   "execution_count": null,
   "metadata": {},
   "outputs": [],
   "source": [
    "#Undertake data cleaning\n",
    "song_lyrics_clean_df = song_lyrics_full_df.copy()\n",
    "\n",
    "#Filter data for english lyrics\n",
    "song_lyrics_clean_df = song_lyrics_clean_df[(song_lyrics_clean_df['language'] == 'en')]\n",
    "\n",
    "#Filter data to remove artists containing \"Genius\"\n",
    "song_lyrics_clean_df  = song_lyrics_clean_df [~song_lyrics_clean_df ['artist'].str.contains('Genius', case=False, na=False)]\n",
    "\n",
    "#Filter for data between 1880 and 2022\n",
    "song_lyrics_clean_df = song_lyrics_clean_df[(song_lyrics_clean_df['year'] >= 1880) & (song_lyrics_clean_df['year'] <= 2022)]\n",
    "\n",
    "#Filter for songs with more than 448 views - so only the top 25% of lyrics.\n",
    "song_lyrics_clean_df = song_lyrics_clean_df[(song_lyrics_clean_df['views'] >= 448)]\n",
    "\n",
    "#Filter data for misc genre\n",
    "song_lyrics_clean_df = song_lyrics_clean_df[~(song_lyrics_clean_df['tag'] == 'misc')]\n",
    "\n",
    "#Clean text\n",
    "song_lyrics_clean_df['lyrics'] = song_lyrics_clean_df['lyrics'].apply(clean_lyrics)\n",
    "\n",
    "# Drop unecessary columns\n",
    "song_lyrics_clean_df = song_lyrics_clean_df.drop(columns=['id','language_cld3','language_ft'])\n"
   ]
  },
  {
   "cell_type": "markdown",
   "metadata": {},
   "source": [
    "### Sampling the data\n",
    "\n",
    "Assumption for a getting sample for the text classification problem - too long to run analysis on everything"
   ]
  },
  {
   "cell_type": "code",
   "execution_count": 1,
   "metadata": {},
   "outputs": [
    {
     "name": "stderr",
     "output_type": "stream",
     "text": [
      "/var/folders/52/f3r19jwn72s9q8h3h8bsc8vh0000gn/T/ipykernel_2145/546745907.py:21: DeprecationWarning: DataFrameGroupBy.apply operated on the grouping columns. This behavior is deprecated, and in a future version of pandas the grouping columns will be excluded from the operation. Either pass `include_groups=False` to exclude the groupings or explicitly select the grouping columns after groupby to silence this warning.\n",
      "  song_lyrics_clean_sample_df = song_lyrics_clean_df.groupby('tag').apply(lambda x: x.sample(stratified_sample_sizes.loc[x.name], random_state=1)).reset_index(drop=True)\n"
     ]
    }
   ],
   "source": [
    "import pandas as pd\n",
    "\n",
    "#Write df to csv\n",
    "#song_lyrics_clean_df.to_csv(\"song_lyrics_clean_df.csv\")\n",
    "\n",
    "song_lyrics_clean_df = pd.read_csv(\"song_lyrics_clean_df.csv\")\n",
    "\n",
    "# Desired total sample size\n",
    "total_sample_size = 2000\n",
    "\n",
    "# Calculate the number of rows in each category\n",
    "genre_counts = song_lyrics_clean_df['tag'].value_counts()\n",
    "\n",
    "# Calculate the sample size for each category\n",
    "stratified_sample_sizes = (genre_counts / genre_counts.sum() * total_sample_size).round().astype(int)\n",
    "\n",
    "# Perform stratified sampling\n",
    "song_lyrics_clean_sample_df = song_lyrics_clean_df.groupby('tag').apply(lambda x: x.sample(stratified_sample_sizes.loc[x.name], random_state=1)).reset_index(drop=True)\n",
    "\n",
    "#Save output to csv\n",
    "song_lyrics_clean_sample_df.to_csv('song_lyrics_clean_sample.csv')\n",
    "\n"
   ]
  },
  {
   "cell_type": "markdown",
   "metadata": {},
   "source": [
    "## Which songs evoke positive, negative or neutral feelings?"
   ]
  },
  {
   "cell_type": "markdown",
   "metadata": {},
   "source": [
    "### Zero-Shot Classification\n",
    "<!--write something about using zero shot classification \n",
    "Write about testing it on Wish You Were HEre\n",
    "Write about the results - what do they broadly say about lyrics?\n",
    "Also note issues - i.e. thunderstruck\n",
    "-->"
   ]
  },
  {
   "cell_type": "code",
   "execution_count": 2,
   "metadata": {},
   "outputs": [],
   "source": [
    "# Developing the zero-shot model\n",
    "import torch\n",
    "from transformers import pipeline\n",
    "\n",
    "#Added to ensure that it uses the apple M1 cores.\n",
    "#https://github.com/jeffheaton/app_deep_learning/blob/main/install/pytorch-install-aug-2023.ipynb\n",
    "has_gpu = torch.cuda.is_available()\n",
    "has_mps = torch.backends.mps.is_built()\n",
    "device = \"mps\" if has_mps else \"cuda\" if torch.cuda.is_available() else \"cpu\"\n",
    "#device = 'cuda' if torch.cuda.is_available() else 'cpu'\n",
    "\n",
    "# Initialize the zero-shot classification pipeline\n",
    "classifier = pipeline(\"zero-shot-classification\", model=\"facebook/bart-large-mnli\",device=device)\n"
   ]
  },
  {
   "cell_type": "code",
   "execution_count": 3,
   "metadata": {},
   "outputs": [
    {
     "name": "stdout",
     "output_type": "stream",
     "text": [
      "Sentiment Labels: ['positive', 'neutral', 'negative']\n",
      "Classification Result: {'sequence': '{}', 'labels': ['negative', 'neutral', 'positive'], 'scores': [0.3641412556171417, 0.35487520694732666, 0.28098350763320923]}\n"
     ]
    }
   ],
   "source": [
    "# Define candidate labels\n",
    "sentiment_labels = [\"positive\",\"neutral\",\"negative\"]\n",
    "\n",
    "#Lyrics\n",
    "song_df = song_lyrics_clean_df[(song_lyrics_clean_df['artist'] == \"Pink Floyd\") & (song_lyrics_clean_df['title'] == \"Wish You Were Here\")]\n",
    "song_lyrics = song_df.iloc[0,6]\n",
    "\n",
    "# Perform zero-shot classification\n",
    "sentiment_result = classifier(song_lyrics, sentiment_labels)\n",
    "\n",
    "#Sentiment results\n",
    "print(\"Sentiment Labels:\", sentiment_labels)\n",
    "print(\"Classification Result:\", sentiment_result)\n"
   ]
  },
  {
   "cell_type": "code",
   "execution_count": 4,
   "metadata": {},
   "outputs": [],
   "source": [
    "#Create dataset for zero shot results\n",
    "song_lyrics_zero_shot_df = song_lyrics_clean_sample_df.copy()\n",
    "\n",
    "#Sentiment labels\n",
    "sentiment_labels = [\"positive\",\"neutral\",\"negative\"]\n",
    "\n",
    "# Function to classify text and store results\n",
    "def classify_lyrics(lyrics, candidate_labels):\n",
    "    result = classifier(lyrics, candidate_labels)\n",
    "    return result\n",
    "\n",
    "# Apply classification to each row and store results\n",
    "song_lyrics_zero_shot_df['classification'] = song_lyrics_zero_shot_df['lyrics'].apply(lambda x: classify_lyrics(x, sentiment_labels))\n",
    "\n",
    "# Extract the scores for each label\n",
    "for label in sentiment_labels:\n",
    "    song_lyrics_zero_shot_df[label] = song_lyrics_zero_shot_df['classification'].apply(lambda x: x['scores'][x['labels'].index(label)])\n",
    "\n",
    "# Extract the predicted label and score\n",
    "song_lyrics_zero_shot_df['predicted_label'] = song_lyrics_zero_shot_df['classification'].apply(lambda x: x['labels'][0])\n",
    "song_lyrics_zero_shot_df['predicted_score'] = song_lyrics_zero_shot_df['classification'].apply(lambda x: x['scores'][0])\n",
    "\n",
    "# Drop the intermediate 'Classification' column\n",
    "song_lyrics_zero_shot_df = song_lyrics_zero_shot_df.drop(columns=['classification'])\n",
    "\n",
    "\n"
   ]
  },
  {
   "cell_type": "code",
   "execution_count": 2,
   "metadata": {},
   "outputs": [],
   "source": [
    "#Write results to csv\n",
    "#song_lyrics_zero_shot_df.to_csv('song_lyrics_zero_shot_df.csv')\n",
    "\n",
    "#Load zero shot results\n",
    "song_lyrics_zero_shot_df = pd.read_csv('song_lyrics_zero_shot_df.csv')\n"
   ]
  },
  {
   "cell_type": "code",
   "execution_count": 3,
   "metadata": {},
   "outputs": [
    {
     "data": {
      "text/html": [
       "<div>\n",
       "<style scoped>\n",
       "    .dataframe tbody tr th:only-of-type {\n",
       "        vertical-align: middle;\n",
       "    }\n",
       "\n",
       "    .dataframe tbody tr th {\n",
       "        vertical-align: top;\n",
       "    }\n",
       "\n",
       "    .dataframe thead th {\n",
       "        text-align: right;\n",
       "    }\n",
       "</style>\n",
       "<table border=\"1\" class=\"dataframe\">\n",
       "  <thead>\n",
       "    <tr style=\"text-align: right;\">\n",
       "      <th></th>\n",
       "      <th>predicted_label</th>\n",
       "      <th>number of predictions</th>\n",
       "    </tr>\n",
       "  </thead>\n",
       "  <tbody>\n",
       "    <tr>\n",
       "      <th>0</th>\n",
       "      <td>negative</td>\n",
       "      <td>1511</td>\n",
       "    </tr>\n",
       "    <tr>\n",
       "      <th>1</th>\n",
       "      <td>neutral</td>\n",
       "      <td>12</td>\n",
       "    </tr>\n",
       "    <tr>\n",
       "      <th>2</th>\n",
       "      <td>positive</td>\n",
       "      <td>476</td>\n",
       "    </tr>\n",
       "  </tbody>\n",
       "</table>\n",
       "</div>"
      ],
      "text/plain": [
       "  predicted_label  number of predictions\n",
       "0        negative                   1511\n",
       "1         neutral                     12\n",
       "2        positive                    476"
      ]
     },
     "metadata": {},
     "output_type": "display_data"
    },
    {
     "data": {
      "image/png": "[encoded data removed]",
      "text/plain": [
       "<Figure size 640x480 with 1 Axes>"
      ]
     },
     "metadata": {},
     "output_type": "display_data"
    }
   ],
   "source": [
    "import seaborn as sns\n",
    "import matplotlib.pyplot as plt\n",
    "\n",
    "#Display table of results\n",
    "song_lyrics_zero_shot_summary_df = song_lyrics_zero_shot_df.groupby('predicted_label').agg({'artist':'count'}).reset_index()\n",
    "song_lyrics_zero_shot_summary_df = song_lyrics_zero_shot_summary_df.rename(columns = {\"artist\" : \"number of predictions\"})\n",
    "display(song_lyrics_zero_shot_summary_df)\n",
    "\n",
    "# Create a box plot to visualize and summarize distribution\n",
    "sns.boxplot(x='predicted_label', y = 'predicted_score', data = song_lyrics_zero_shot_df)\n",
    "plt.title('Box Plot of lyric sentiment scores for sample songs (n = 1,999)')\n",
    "plt.show()\n"
   ]
  },
  {
   "cell_type": "code",
   "execution_count": 12,
   "metadata": {},
   "outputs": [
    {
     "data": {
      "text/html": [
       "<div>\n",
       "<style scoped>\n",
       "    .dataframe tbody tr th:only-of-type {\n",
       "        vertical-align: middle;\n",
       "    }\n",
       "\n",
       "    .dataframe tbody tr th {\n",
       "        vertical-align: top;\n",
       "    }\n",
       "\n",
       "    .dataframe thead th {\n",
       "        text-align: right;\n",
       "    }\n",
       "</style>\n",
       "<table border=\"1\" class=\"dataframe\">\n",
       "  <thead>\n",
       "    <tr style=\"text-align: right;\">\n",
       "      <th>predicted_label</th>\n",
       "      <th>negative</th>\n",
       "      <th>neutral</th>\n",
       "      <th>positive</th>\n",
       "    </tr>\n",
       "    <tr>\n",
       "      <th>genre</th>\n",
       "      <th></th>\n",
       "      <th></th>\n",
       "      <th></th>\n",
       "    </tr>\n",
       "  </thead>\n",
       "  <tbody>\n",
       "    <tr>\n",
       "      <th>country</th>\n",
       "      <td>38.0</td>\n",
       "      <td>0.0</td>\n",
       "      <td>23.0</td>\n",
       "    </tr>\n",
       "    <tr>\n",
       "      <th>pop</th>\n",
       "      <td>523.0</td>\n",
       "      <td>2.0</td>\n",
       "      <td>234.0</td>\n",
       "    </tr>\n",
       "    <tr>\n",
       "      <th>rap</th>\n",
       "      <td>484.0</td>\n",
       "      <td>9.0</td>\n",
       "      <td>116.0</td>\n",
       "    </tr>\n",
       "    <tr>\n",
       "      <th>rb</th>\n",
       "      <td>74.0</td>\n",
       "      <td>0.0</td>\n",
       "      <td>42.0</td>\n",
       "    </tr>\n",
       "    <tr>\n",
       "      <th>rock</th>\n",
       "      <td>392.0</td>\n",
       "      <td>1.0</td>\n",
       "      <td>61.0</td>\n",
       "    </tr>\n",
       "  </tbody>\n",
       "</table>\n",
       "</div>"
      ],
      "text/plain": [
       "predicted_label  negative  neutral  positive\n",
       "genre                                       \n",
       "country              38.0      0.0      23.0\n",
       "pop                 523.0      2.0     234.0\n",
       "rap                 484.0      9.0     116.0\n",
       "rb                   74.0      0.0      42.0\n",
       "rock                392.0      1.0      61.0"
      ]
     },
     "metadata": {},
     "output_type": "display_data"
    },
    {
     "data": {
      "image/png": "[encoded data removed]",
      "text/plain": [
       "<Figure size 640x480 with 1 Axes>"
      ]
     },
     "metadata": {},
     "output_type": "display_data"
    }
   ],
   "source": [
    "#Display table of results\n",
    "song_lyrics_zero_shot_by_genre_df = song_lyrics_zero_shot_df.groupby(['tag','predicted_label']).agg({'artist':'count'}).reset_index()\n",
    "song_lyrics_zero_shot_by_genre_df = song_lyrics_zero_shot_by_genre_df.rename(columns = {'artist' : 'number of predictions','tag' : 'genre'})\n",
    "song_lyrics_zero_shot_by_genre_df = song_lyrics_zero_shot_by_genre_df.pivot_table(index = 'genre',columns='predicted_label',values = 'number of predictions',fill_value=0)\n",
    "display(song_lyrics_zero_shot_by_genre_df)\n",
    "\n",
    "# Create a box plot to visualize and summarize distribution\n",
    "sns.boxplot(x='predicted_label', y = 'predicted_score', hue = 'tag',data = song_lyrics_zero_shot_df)\n",
    "plt.title('Box Plot of lyric sentiment scores for sample songs by genre (n = 1,999)')\n",
    "plt.show()"
   ]
  },
  {
   "cell_type": "markdown",
   "metadata": {},
   "source": [
    "### Naive Bayes\n",
    "\n",
    "<!-- Set up using labelled data from zero-shot classification -->"
   ]
  },
  {
   "cell_type": "markdown",
   "metadata": {},
   "source": [
    "### Chat GPT Prompt"
   ]
  },
  {
   "cell_type": "markdown",
   "metadata": {},
   "source": [
    "### Model comparison using self-labelled data "
   ]
  },
  {
   "cell_type": "markdown",
   "metadata": {},
   "source": [
    "## Which songs evoke specific emotions (i.e. joy, danger)?"
   ]
  },
  {
   "cell_type": "code",
   "execution_count": null,
   "metadata": {},
   "outputs": [],
   "source": [
    "#Interval labels - perhaps pick 6-8 emotions that capture the majority of the feelings you get from a song.\n",
    "#Need to make sure these are not overlapping\n",
    "#Maybe use some analysis to check how similar some words are to each other\n",
    "#interval_labels = [\"happiness\",\"serenity\",\"aspiration\",\"stability\",\"openness\",\"mysterious\",\"sadness\",\"danger\"]\n",
    "#interval_result = classifier(song_lyrics, interval_labels)"
   ]
  },
  {
   "cell_type": "markdown",
   "metadata": {},
   "source": [
    "# LLM model for writing lyrics\n",
    "\n",
    "TBC\n",
    "\n",
    "<!-- 1. Repeat data pre-processing steps.\n",
    "2. Add a special token for genre based on \"tag\"\n",
    "3. Tokens will need to be split by /n, as these indicate new lines\n",
    "4. Model could be improved by shifting the window between /n to improve context of lines\n",
    "5. Create a training and a validation set. Make sure proportion of each genre is represented. -->"
   ]
  },
  {
   "cell_type": "code",
   "execution_count": null,
   "metadata": {},
   "outputs": [],
   "source": [
    "# #Add genre tag to the lyrics\n",
    "# song_lyrics_df['lyrics'] = '<genre_' + song_lyrics_df['tag'] + '> ' + song_lyrics_df['lyrics']\n",
    "\n",
    "# print(song_lyrics_df['lyrics'][1])"
   ]
  }
 ],
 "metadata": {
  "kernelspec": {
   "display_name": "lyrical_sentiment",
   "language": "python",
   "name": "python3"
  },
  "language_info": {
   "codemirror_mode": {
    "name": "ipython",
    "version": 3
   },
   "file_extension": ".py",
   "mimetype": "text/x-python",
   "name": "python",
   "nbconvert_exporter": "python",
   "pygments_lexer": "ipython3",
   "version": "3.12.4"
  }
 },
 "nbformat": 4,
 "nbformat_minor": 2
}
